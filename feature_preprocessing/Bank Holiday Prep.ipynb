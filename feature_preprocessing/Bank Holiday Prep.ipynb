{
 "cells": [
  {
   "cell_type": "code",
   "execution_count": 2,
   "id": "985525e2",
   "metadata": {},
   "outputs": [],
   "source": [
    "from jours_feries_france.compute import JoursFeries\n",
    "import pandas as pd\n",
    "\n",
    "bank_holidays = []\n",
    "for year in [2020, 2021, 2022]:\n",
    "    bank_holidays.extend(JoursFeries.for_year(year).values())\n",
    "\n",
    "bank_holidays = [day.strftime(\"%m%d%Y\") for day in bank_holidays]\n",
    "\n",
    "pd.Series(bank_holidays).to_csv('../data/bank_holidays.csv', index=False)"
   ]
  },
  {
   "cell_type": "code",
   "execution_count": null,
   "id": "af8673b6",
   "metadata": {},
   "outputs": [],
   "source": []
  }
 ],
 "metadata": {
  "kernelspec": {
   "display_name": "Python 3 (ipykernel)",
   "language": "python",
   "name": "python3"
  },
  "language_info": {
   "codemirror_mode": {
    "name": "ipython",
    "version": 3
   },
   "file_extension": ".py",
   "mimetype": "text/x-python",
   "name": "python",
   "nbconvert_exporter": "python",
   "pygments_lexer": "ipython3",
   "version": "3.9.7"
  }
 },
 "nbformat": 4,
 "nbformat_minor": 5
}
