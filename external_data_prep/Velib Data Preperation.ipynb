{
 "cells": [
  {
   "cell_type": "code",
   "execution_count": 1,
   "id": "53240dc2",
   "metadata": {},
   "outputs": [],
   "source": [
    "from pathlib import Path\n",
    "import problem\n",
    "\n",
    "import numpy as np\n",
    "import pandas as pd\n",
    "import matplotlib.pyplot as plt\n",
    "import sklearn\n",
    "\n",
    "from jours_feries_france.compute import JoursFeries\n",
    "from jours_feries_france.compute import JoursFeries\n",
    "import datetime"
   ]
  },
  {
   "cell_type": "code",
   "execution_count": 2,
   "id": "654cf0bb",
   "metadata": {},
   "outputs": [],
   "source": [
    "velib = pd.read_csv('data/velib_data.csv', sep=\";\")\n",
    "data = pd.read_parquet(Path(\"data\") / \"train.parquet\")\n"
   ]
  },
  {
   "cell_type": "code",
   "execution_count": 3,
   "id": "f245af64",
   "metadata": {},
   "outputs": [],
   "source": [
    "data_coordinate = data.groupby('site_id').first()['coordinates']\n",
    "velib_coordinates = velib['Coordonnées géographiques']"
   ]
  },
  {
   "cell_type": "code",
   "execution_count": 4,
   "id": "ca05816b",
   "metadata": {},
   "outputs": [],
   "source": [
    "import geopy.distance\n",
    "\n",
    "dists = []\n",
    "for v_coord in velib_coordinates.values:\n",
    "    dists_inter = []\n",
    "    for d_coord in data_coordinate.values:\n",
    "        coords_1 = d_coord.split(',')\n",
    "        coords_2 = v_coord.split(',')\n",
    "\n",
    "        dists_inter.append(geopy.distance.geodesic(coords_1, coords_2).km)\n",
    "    dists.append(dists_inter)"
   ]
  },
  {
   "cell_type": "code",
   "execution_count": 18,
   "id": "321ce919",
   "metadata": {},
   "outputs": [],
   "source": [
    "velib_stats = pd.DataFrame(dists, columns=data.groupby('site_id').first().index).describe().T"
   ]
  },
  {
   "cell_type": "code",
   "execution_count": 19,
   "id": "446ea698",
   "metadata": {},
   "outputs": [],
   "source": [
    "velib_stats = velib_stats.add_prefix('velib_').drop(columns=['velib_count', 'velib_50%', 'velib_75%', 'velib_max'])"
   ]
  },
  {
   "cell_type": "code",
   "execution_count": 22,
   "id": "bb097696",
   "metadata": {},
   "outputs": [],
   "source": [
    "velib_stats.to_csv('velib_processed.csv', sep=',', index=True)\n"
   ]
  },
  {
   "cell_type": "code",
   "execution_count": null,
   "id": "5d32c270",
   "metadata": {},
   "outputs": [],
   "source": []
  }
 ],
 "metadata": {
  "kernelspec": {
   "display_name": "Python 3 (ipykernel)",
   "language": "python",
   "name": "python3"
  },
  "language_info": {
   "codemirror_mode": {
    "name": "ipython",
    "version": 3
   },
   "file_extension": ".py",
   "mimetype": "text/x-python",
   "name": "python",
   "nbconvert_exporter": "python",
   "pygments_lexer": "ipython3",
   "version": "3.9.7"
  }
 },
 "nbformat": 4,
 "nbformat_minor": 5
}
