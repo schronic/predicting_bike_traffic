{
 "cells": [
  {
   "cell_type": "code",
   "execution_count": 1,
   "id": "df573721",
   "metadata": {},
   "outputs": [],
   "source": [
    "import pandas as pd\n",
    "import numpy as np\n",
    "import datetime"
   ]
  },
  {
   "cell_type": "code",
   "execution_count": 15,
   "id": "0497e1fe",
   "metadata": {},
   "outputs": [],
   "source": [
    "# Load the CSV file into a DataFrame\n",
    "file_path = 'data/paris 2020-09-01 to 2021-10-31.csv'\n",
    "external_data = pd.read_csv(file_path, sep=',', quotechar='\"')"
   ]
  },
  {
   "cell_type": "code",
   "execution_count": 17,
   "id": "320690a7",
   "metadata": {},
   "outputs": [],
   "source": [
    "external_data['datetime'] = pd.to_datetime(external_data['datetime'])\n",
    "date_range = pd.date_range('2020-09-01 00:00:00', '2021-10-31 23:00:00', freq='1H')\n",
    "df_missing = pd.Series(external_data.datetime.unique())\n",
    "\n",
    "#check for missing datetimeindex values based on reference index (with all values)\n",
    "missing_dates = date_range[~date_range.isin(df_missing)]\n",
    "#print(missing_dates)\n",
    "\n",
    "impute_missing = external_data.loc[external_data['datetime'] == np.datetime64('2021-03-28T03:00:00.000000')].replace('2021-03-28 03:00:00', '2021-03-28 02:00:00')\n",
    "external_data = pd.concat([external_data, impute_missing], ignore_index=True)\n",
    "\n",
    "external_data = external_data.apply(pd.to_numeric, errors='ignore')\n",
    "\n",
    "#external_data[external_data.duplicated(subset=['datetime'],keep=False)]\n",
    "external_data = external_data.drop_duplicates(subset=['datetime'])"
   ]
  },
  {
   "cell_type": "code",
   "execution_count": 7,
   "id": "08332ca3",
   "metadata": {},
   "outputs": [],
   "source": [
    "external_data.drop(columns=['name', 'preciptype', 'windgust', 'feelslike', \n",
    "                            'visibility', 'snow', 'snowdepth', 'dew', 'winddir', \n",
    "                            'sealevelpressure', 'solarradiation', 'solarenergy', \n",
    "                            'uvindex', 'severerisk', 'conditions', 'icon', 'stations'\n",
    "                           ], inplace=True)\n"
   ]
  },
  {
   "cell_type": "code",
   "execution_count": 8,
   "id": "69c10f1b",
   "metadata": {},
   "outputs": [],
   "source": [
    "external_data['datetime'] = pd.to_datetime(external_data['datetime'])"
   ]
  },
  {
   "cell_type": "code",
   "execution_count": 9,
   "id": "e781ee7a",
   "metadata": {},
   "outputs": [
    {
     "data": {
      "text/html": [
       "<div>\n",
       "<style scoped>\n",
       "    .dataframe tbody tr th:only-of-type {\n",
       "        vertical-align: middle;\n",
       "    }\n",
       "\n",
       "    .dataframe tbody tr th {\n",
       "        vertical-align: top;\n",
       "    }\n",
       "\n",
       "    .dataframe thead th {\n",
       "        text-align: right;\n",
       "    }\n",
       "</style>\n",
       "<table border=\"1\" class=\"dataframe\">\n",
       "  <thead>\n",
       "    <tr style=\"text-align: right;\">\n",
       "      <th></th>\n",
       "      <th>datetime</th>\n",
       "      <th>temp</th>\n",
       "      <th>humidity</th>\n",
       "      <th>precip</th>\n",
       "      <th>precipprob</th>\n",
       "      <th>windspeed</th>\n",
       "      <th>cloudcover</th>\n",
       "    </tr>\n",
       "  </thead>\n",
       "  <tbody>\n",
       "    <tr>\n",
       "      <th>0</th>\n",
       "      <td>2020-09-01 00:00:00</td>\n",
       "      <td>14.4</td>\n",
       "      <td>70.52</td>\n",
       "      <td>0.0</td>\n",
       "      <td>0</td>\n",
       "      <td>7.3</td>\n",
       "      <td>33.3</td>\n",
       "    </tr>\n",
       "    <tr>\n",
       "      <th>1</th>\n",
       "      <td>2020-09-01 01:00:00</td>\n",
       "      <td>13.8</td>\n",
       "      <td>74.22</td>\n",
       "      <td>0.0</td>\n",
       "      <td>0</td>\n",
       "      <td>7.4</td>\n",
       "      <td>10.0</td>\n",
       "    </tr>\n",
       "    <tr>\n",
       "      <th>2</th>\n",
       "      <td>2020-09-01 02:00:00</td>\n",
       "      <td>13.3</td>\n",
       "      <td>77.67</td>\n",
       "      <td>0.0</td>\n",
       "      <td>0</td>\n",
       "      <td>7.0</td>\n",
       "      <td>10.0</td>\n",
       "    </tr>\n",
       "    <tr>\n",
       "      <th>3</th>\n",
       "      <td>2020-09-01 03:00:00</td>\n",
       "      <td>12.9</td>\n",
       "      <td>79.13</td>\n",
       "      <td>0.0</td>\n",
       "      <td>0</td>\n",
       "      <td>4.2</td>\n",
       "      <td>10.0</td>\n",
       "    </tr>\n",
       "    <tr>\n",
       "      <th>4</th>\n",
       "      <td>2020-09-01 04:00:00</td>\n",
       "      <td>12.4</td>\n",
       "      <td>80.98</td>\n",
       "      <td>0.0</td>\n",
       "      <td>0</td>\n",
       "      <td>3.7</td>\n",
       "      <td>54.0</td>\n",
       "    </tr>\n",
       "  </tbody>\n",
       "</table>\n",
       "</div>"
      ],
      "text/plain": [
       "             datetime  temp  humidity  precip  precipprob  windspeed  \\\n",
       "0 2020-09-01 00:00:00  14.4     70.52     0.0           0        7.3   \n",
       "1 2020-09-01 01:00:00  13.8     74.22     0.0           0        7.4   \n",
       "2 2020-09-01 02:00:00  13.3     77.67     0.0           0        7.0   \n",
       "3 2020-09-01 03:00:00  12.9     79.13     0.0           0        4.2   \n",
       "4 2020-09-01 04:00:00  12.4     80.98     0.0           0        3.7   \n",
       "\n",
       "   cloudcover  \n",
       "0        33.3  \n",
       "1        10.0  \n",
       "2        10.0  \n",
       "3        10.0  \n",
       "4        54.0  "
      ]
     },
     "execution_count": 9,
     "metadata": {},
     "output_type": "execute_result"
    }
   ],
   "source": [
    "external_data.head()"
   ]
  },
  {
   "cell_type": "code",
   "execution_count": 10,
   "id": "6faa02c9",
   "metadata": {},
   "outputs": [
    {
     "data": {
      "text/plain": [
       "datetime      False\n",
       "temp          False\n",
       "humidity      False\n",
       "precip        False\n",
       "precipprob    False\n",
       "windspeed     False\n",
       "cloudcover    False\n",
       "dtype: bool"
      ]
     },
     "execution_count": 10,
     "metadata": {},
     "output_type": "execute_result"
    }
   ],
   "source": [
    "external_data.isna().any()"
   ]
  },
  {
   "cell_type": "code",
   "execution_count": 11,
   "id": "29106382",
   "metadata": {},
   "outputs": [],
   "source": [
    "numeric_features = external_data.select_dtypes(include=np.number)"
   ]
  },
  {
   "cell_type": "code",
   "execution_count": 12,
   "id": "2b626a9d",
   "metadata": {},
   "outputs": [],
   "source": [
    "from sklearn.preprocessing import MinMaxScaler\n",
    "\n",
    "scaler = MinMaxScaler()\n",
    "scaler.fit(numeric_features)\n",
    "scaled_features = scaler.transform(numeric_features)"
   ]
  },
  {
   "cell_type": "code",
   "execution_count": 13,
   "id": "3ea330e0",
   "metadata": {},
   "outputs": [],
   "source": [
    "scaled_external_data = pd.merge(external_data.datetime, pd.DataFrame(scaled_features, columns=numeric_features.columns), left_index=True, right_index=True)"
   ]
  },
  {
   "cell_type": "code",
   "execution_count": 14,
   "id": "94db81f7",
   "metadata": {},
   "outputs": [],
   "source": [
    "scaled_external_data.to_csv('data/scaled_weather_data.csv', index=False)"
   ]
  },
  {
   "cell_type": "code",
   "execution_count": null,
   "id": "d52e3633",
   "metadata": {},
   "outputs": [],
   "source": []
  }
 ],
 "metadata": {
  "kernelspec": {
   "display_name": "Python 3 (ipykernel)",
   "language": "python",
   "name": "python3"
  },
  "language_info": {
   "codemirror_mode": {
    "name": "ipython",
    "version": 3
   },
   "file_extension": ".py",
   "mimetype": "text/x-python",
   "name": "python",
   "nbconvert_exporter": "python",
   "pygments_lexer": "ipython3",
   "version": "3.9.7"
  }
 },
 "nbformat": 4,
 "nbformat_minor": 5
}
