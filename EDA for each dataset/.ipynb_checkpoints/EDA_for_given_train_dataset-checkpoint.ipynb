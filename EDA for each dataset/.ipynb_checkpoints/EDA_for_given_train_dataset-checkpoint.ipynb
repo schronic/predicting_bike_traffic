{
 "cells": [
  {
   "cell_type": "markdown",
   "metadata": {},
   "source": [
    "# $(1)$ Data Analysis notebook only for train.parquet  (the training set) \n",
    "\n",
    "### Summary:\n",
    "- 1) A first look at our dataset with ydata-profiling\n",
    "        - Quick discovery of the dataset with ydata_profiling package\n",
    "- 2) Visualization of our dataset \n",
    "        - Discovery of our dataset\n",
    "        - Do some variables have repetition ? How about the uniqueness ?\n",
    "        - What about the outliers ?\n",
    "        - Plotting variables of our dataset\n",
    "        - Skewed distribution of the target variable\n",
    "        - Why should we use log(bike_count) as a target instead of bike_count\n",
    "- 3) How to handle missing values ?\n",
    "        - Visualization of the missing value for the target variable for an example site : 152 Boulevard du Montparnasse\n",
    "        - Option 1: Replace them\n",
    "        - Option 2: Predict them\n",
    "        - Option 3: Not doing anything\n",
    "        - Option 4: Deleting them\n",
    "- 4) The stationarity of our target is a good thing, why ? (Dickey Fuller test and more...)\n",
    "- 5) Deal with highly correlated variables\n",
    "        - Reduction of dimensionality with a correlation matrix\n",
    "        - PCA analysis (Only commenting the PCA, not used in our models )\n",
    "- 6) References about the dataset\n",
    "\n",
    "Remark: we focus for the moment only on commenting our dataset, do the data analysis and present the way will do feature engineering on it. To see more details about the concrete code for the feature engineering of the train.parquet, see this document: [insert name of th ipynb that does that]"
   ]
  },
  {
   "cell_type": "markdown",
   "metadata": {},
   "source": [
    "-----------------------------------------------------------------------------------------------"
   ]
  },
  {
   "cell_type": "markdown",
   "metadata": {},
   "source": [
    "We begin by importing the necessary packages"
   ]
  },
  {
   "cell_type": "code",
   "execution_count": 1,
   "metadata": {},
   "outputs": [],
   "source": [
    "import numpy as np\n",
    "import pandas as pd\n",
    "import ydata_profiling\n",
    "import folium\n",
    "import matplotlib.pyplot as plt\n",
    "import seaborn as sns\n",
    "%matplotlib inline\n",
    "from sklearn.decomposition import PCA\n",
    "from sklearn.preprocessing import StandardScaler"
   ]
  },
  {
   "cell_type": "code",
   "execution_count": 13,
   "metadata": {},
   "outputs": [],
   "source": [
    "%config InlineBackend.figure_format = 'retina'"
   ]
  },
  {
   "cell_type": "markdown",
   "metadata": {},
   "source": [
    "-----------------------------------------------------------------------------------------------\n",
    "#### 1) A first look at our dataset with ydata-profiling"
   ]
  },
  {
   "cell_type": "markdown",
   "metadata": {},
   "source": [
    "- > Quick discovery of the dataset with ydata_profiling package"
   ]
  },
  {
   "cell_type": "code",
   "execution_count": 2,
   "metadata": {},
   "outputs": [],
   "source": [
    "#Load the given train.parquet dataset\n",
    "data_train = pd.read_parquet(\"../data/train.parquet\")"
   ]
  },
  {
   "cell_type": "markdown",
   "metadata": {},
   "source": [
    "The below report sums up key elements we need to know for train.parquet"
   ]
  },
  {
   "cell_type": "code",
   "execution_count": null,
   "metadata": {},
   "outputs": [],
   "source": [
    "data_train.profile_report()"
   ]
  },
  {
   "cell_type": "markdown",
   "metadata": {},
   "source": [
    "-----------------------------------------------------------------------------------------------\n",
    "#### 2) Visualization of our dataset"
   ]
  },
  {
   "cell_type": "markdown",
   "metadata": {},
   "source": [
    "- > Discovery of our dataset"
   ]
  },
  {
   "cell_type": "code",
   "execution_count": null,
   "metadata": {},
   "outputs": [],
   "source": [
    "data_train.head()"
   ]
  },
  {
   "cell_type": "markdown",
   "metadata": {},
   "source": [
    "The provided code snippet describes a pandas DataFrame structure, and I can translate the details into English for you:\n",
    "\n",
    "- Our DataFrame is of the class `pandas.core.frame.DataFrame`, has an index with 496,827 entries, ranging from 48321 to 929187 and have 12 columns.\n",
    "  \n",
    "  The bike_count columns holds floating-point numbers representing the count of bikes. There are no null entries in this column.\n",
    " The datetime column is indicating the date and time of the data recorded. All entries are already present and in datetime format.\n",
    "\n",
    "Each column is fully populated with no missing values (but sometimes, we will see, null values) , indicating a complete dataset. The data types used are mainly categorical, floating-point numbers, integers, and datetime, each suitable for the kind of data they represent."
   ]
  },
  {
   "cell_type": "code",
   "execution_count": null,
   "metadata": {},
   "outputs": [],
   "source": [
    "data_train.info()"
   ]
  },
  {
   "cell_type": "markdown",
   "metadata": {},
   "source": [
    "- > Do some variables have repetition ? How about the uniqueness ?"
   ]
  },
  {
   "cell_type": "code",
   "execution_count": null,
   "metadata": {},
   "outputs": [],
   "source": [
    "data_train.nunique(axis=0)"
   ]
  },
  {
   "cell_type": "markdown",
   "metadata": {},
   "source": [
    "- > What about the outliers ?"
   ]
  },
  {
   "cell_type": "code",
   "execution_count": null,
   "metadata": {},
   "outputs": [],
   "source": [
    "# Select only numerical columns for outlier visualization\n",
    "numerical_columns = data_train.select_dtypes(include=['float64', 'int64'])\n",
    "\n",
    "total_rows = len(data_train)\n",
    "\n",
    "for column in numerical_columns:\n",
    "    Q1 = data_train[column].quantile(0.25)\n",
    "    Q3 = data_train[column].quantile(0.75)\n",
    "    IQR = Q3 - Q1\n",
    "    lower_bound = Q1 - 1.5 * IQR\n",
    "    upper_bound = Q3 + 1.5 * IQR\n",
    "    \n",
    "    outliers = data_train[(data_train[column] < lower_bound) | (data_train[column] > upper_bound)]\n",
    "    num_outliers = len(outliers)\n",
    "    percentage_outliers = (num_outliers / total_rows) * 100\n",
    "\n",
    "    print(f'{column} - Outliers: {num_outliers} ({percentage_outliers:.2f}%)')\n"
   ]
  },
  {
   "cell_type": "markdown",
   "metadata": {},
   "source": [
    "We detect outliers in numerical columns of the `data_train` DataFrame using the Interquartile Range (IQR) method. This method involves calculating the IQR for each numerical column, which is the difference between the 25th (Q1) and 75th (Q3) percentiles. Outliers are defined as values that fall below Q1 - 1.5 * IQR or above Q3 + 1.5 * IQR.\n",
    "\n",
    "After identifying outliers, our code calculates and prints the number and percentage of outliers for each numerical column. For example, in the `site_id` column, 31,102 entries (6.26%) were identified as outliers. Similarly, in the `bike_count` column, 35,895 entries (7.22%) are outliers.\n",
    "\n",
    "### Analysis and Implications:\n",
    "- **Presence of Outliers**: The presence of a significant number of outliers in `site_id` and `bike_count` columns (above 6%) suggests that these columns contain some values that are markedly different from the rest.\n",
    "- **Modeling Considerations**: We will see in the modeling part that the decision to remove or retain outliers depends on their impact on the model. Since the percentage of outliers is not excessively high, they might not need to be removed. However, this decision will be based on further analysis inside the modeling code."
   ]
  },
  {
   "cell_type": "markdown",
   "metadata": {},
   "source": [
    "Now, we see that we have 30 sites where sometimes multiple counters are installed per site. Our data is taken from 2020-09-01 01:00:00 to 2020-09-09 23:00:00"
   ]
  },
  {
   "cell_type": "markdown",
   "metadata": {},
   "source": [
    "- > Plotting variables of our dataset"
   ]
  },
  {
   "cell_type": "markdown",
   "metadata": {},
   "source": [
    "Let's visualize where our counters are on the Paris Map :"
   ]
  },
  {
   "cell_type": "code",
   "execution_count": null,
   "metadata": {},
   "outputs": [],
   "source": [
    "m = folium.Map(location=data_train[[\"latitude\", \"longitude\"]].mean(axis=0), zoom_start=13)\n",
    "\n",
    "for _, row in (\n",
    "    data_train[[\"counter_name\", \"latitude\", \"longitude\"]]\n",
    "    .drop_duplicates(\"counter_name\")\n",
    "    .iterrows()\n",
    "):\n",
    "    folium.Marker(\n",
    "        row[[\"latitude\", \"longitude\"]].values.tolist(), popup=row[\"counter_name\"]\n",
    "    ).add_to(m)\n",
    "m"
   ]
  },
  {
   "cell_type": "markdown",
   "metadata": {},
   "source": [
    "Let's now display the most frequented sites :"
   ]
  },
  {
   "cell_type": "code",
   "execution_count": null,
   "metadata": {},
   "outputs": [],
   "source": [
    "# Group the data by site_name and counter_name and sum the bike_count\n",
    "grouped_data_train = data_train.groupby([\"site_name\", \"counter_name\"])[\"bike_count\"].sum().reset_index()\n",
    "\n",
    "# Sort the data by bike_count in descending order\n",
    "grouped_data_sorted = grouped_data_train.sort_values(by=\"bike_count\", ascending=False)\n",
    "\n",
    "# Create the plot\n",
    "plt.figure(figsize=(15, 8))  # Adjust the size as needed\n",
    "sns.barplot(x='site_name', y='bike_count', data=grouped_data_sorted,errorbar=None)\n",
    "\n",
    "# Improve readability\n",
    "plt.xticks(rotation=90)  # Rotate site names for better readability\n",
    "plt.xlabel('Site Name')  # X-axis title\n",
    "plt.ylabel('Total Bike Count')  # Y-axis title\n",
    "plt.title('Total Bike Count by Site Name from 2020-09-01 01:00:00 to 2020-09-09 23:00:00')  # Plot title\n",
    "\n",
    "# Display the plot\n",
    "plt.show()\n"
   ]
  },
  {
   "cell_type": "markdown",
   "metadata": {},
   "source": [
    "We see that \"Totem 73 boulevard de Sébastopol\" is the most frequented site. Let's see how the distribution of bike_count for this site. Is it linear ? Does it have peaks ? How many counters are there in this site ? "
   ]
  },
  {
   "cell_type": "code",
   "execution_count": null,
   "metadata": {},
   "outputs": [],
   "source": [
    "# Filtering data for the \"Totem 73 boulevard de Sébastopol\" site\n",
    "totem_data = data_train[data_train['site_name'] == \"Totem 73 boulevard de Sébastopol\"]\n",
    "\n",
    "# Aggregate bike counts by date\n",
    "daily_counts = totem_data.groupby('date')['bike_count'].sum().reset_index()\n",
    "\n",
    "# Plot the aggregated bike_count over time\n",
    "plt.figure(figsize=(15, 5))\n",
    "plt.plot(daily_counts['date'], daily_counts['bike_count'], linestyle='-')\n",
    "plt.title('Aggregated Bike Count Distribution for the site: Totem 73 Boulevard de Sébastopol')\n",
    "plt.xlabel('Date')\n",
    "plt.ylabel('Aggregated Bike Count')\n",
    "plt.xticks(rotation=45)\n",
    "plt.tight_layout()\n",
    "plt.show()\n",
    "\n",
    "\n",
    "# Count the number of unique counters at the \"Totem 73 boulevard de Sébastopol\" site\n",
    "print(f\"The number of counters at the Totem 73 boulevard de Sébastopol site: {totem_data['counter_name'].nunique()}\")\n"
   ]
  },
  {
   "cell_type": "markdown",
   "metadata": {},
   "source": [
    "Let's see which of the two counters in this Site are the most popular"
   ]
  },
  {
   "cell_type": "code",
   "execution_count": null,
   "metadata": {},
   "outputs": [],
   "source": [
    "# Create a figure and axis for the plot\n",
    "plt.figure(figsize=(15, 7))\n",
    "\n",
    "# Get the list of all unique counters at the \"Totem 73 boulevard de Sébastopol\" site\n",
    "unique_counters = totem_data['counter_name'].unique()\n",
    "\n",
    "# Plot the weekly aggregated bike_count for each counter\n",
    "for counter in unique_counters:\n",
    "    # Apply mask for the current counter\n",
    "    mask = totem_data[\"counter_name\"] == counter\n",
    "    counter_data = totem_data[mask]\n",
    "\n",
    "    # Group data by week and sum bike counts\n",
    "    weekly_counts = counter_data.groupby(pd.Grouper(freq=\"1w\", key=\"date\"))[\"bike_count\"].sum()\n",
    "\n",
    "    # Plot the data with the counter name as the label\n",
    "    weekly_counts.plot(label=counter)\n",
    "\n",
    "# Finalize the plot\n",
    "plt.title('Weekly Aggregated Bike Count for Each Counter at the site: Totem 73 Boulevard de Sébastopol')\n",
    "plt.xlabel('Date')\n",
    "plt.ylabel('Aggregated Bike Count')\n",
    "plt.legend(title='Counter Name')\n",
    "plt.show()\n"
   ]
  },
  {
   "cell_type": "markdown",
   "metadata": {},
   "source": [
    "- > Skewed distribution of the target variable"
   ]
  },
  {
   "cell_type": "markdown",
   "metadata": {},
   "source": [
    "Let's now focus on the weekly behaviour of the counters composing 4 Sites we choosed randomly"
   ]
  },
  {
   "cell_type": "code",
   "execution_count": null,
   "metadata": {},
   "outputs": [],
   "source": [
    "# Define the sites of interest\n",
    "sites_of_interest = ['Totem 73 boulevard de Sébastopol', '254 rue de Vaugirard', '38 rue Turbigo', 'Face au 70 quai de Bercy']\n",
    "\n",
    "# Define the time period of interest\n",
    "start_date = pd.to_datetime(\"2021-06-01\")\n",
    "end_date = pd.to_datetime(\"2021-06-08\")\n",
    "\n",
    "# Create a 2x2 subplot structure for the four sites\n",
    "fig, axs = plt.subplots(2, 2, figsize=(15, 7), constrained_layout=True)\n",
    "\n",
    "# Flatten the array of axes for easy iteration\n",
    "axs = axs.flatten()\n",
    "\n",
    "# Plot the daily bike_count for each counter during the specified week for each site\n",
    "for idx, site_name in enumerate(sites_of_interest):\n",
    "    # Filter the data for the given site and week\n",
    "    site_week_data = data_train[(data_train['site_name'] == site_name) & \n",
    "                                (data_train['date'] >= start_date) & \n",
    "                                (data_train['date'] < end_date)]\n",
    "\n",
    "    # Get the list of all unique counters at the current site\n",
    "    unique_counters = site_week_data['counter_name'].unique()\n",
    "\n",
    "    # Plot the daily bike_count for each counter\n",
    "    for counter in unique_counters:\n",
    "        # Apply mask for the current counter\n",
    "        mask = site_week_data[\"counter_name\"] == counter\n",
    "        counter_data = site_week_data[mask]\n",
    "\n",
    "        # Group data by date and sum bike counts\n",
    "        daily_counts = counter_data.groupby('date')['bike_count'].sum().reset_index()\n",
    "\n",
    "        # Plot the data with the counter name as the label on the appropriate subplot\n",
    "        axs[idx].plot(daily_counts['date'], daily_counts['bike_count'], label=counter)\n",
    "\n",
    "    # Finalize each subplot\n",
    "    axs[idx].set_title(f'{site_name} (2021-06-01 to 2021-06-08)')\n",
    "    axs[idx].set_xlabel('Date for a WHOLE WEEK')\n",
    "    axs[idx].set_ylabel('Bike Count')\n",
    "    axs[idx].legend(title='Counter Name')\n",
    "    axs[idx].tick_params(axis='x', rotation=45)\n",
    "\n",
    "# Adjust the layout so that all subplots fit into the figure neatly\n",
    "plt.show()"
   ]
  },
  {
   "cell_type": "markdown",
   "metadata": {},
   "source": [
    "Let's now focus on the daily behaviour of the counters composing 4 Sites we choose randomly"
   ]
  },
  {
   "cell_type": "code",
   "execution_count": null,
   "metadata": {},
   "outputs": [],
   "source": [
    "import matplotlib.pyplot as plt\n",
    "import pandas as pd\n",
    "\n",
    "# Define the sites of interest\n",
    "sites_of_interest = ['Totem 73 boulevard de Sébastopol', 'Face au 70 quai de Bercy']\n",
    "\n",
    "# Define the time period of interest\n",
    "start_date = pd.to_datetime(\"2020-09-01 00:00:00\")\n",
    "end_date = pd.to_datetime(\"2020-09-02 00:00:00\")\n",
    "\n",
    "# Create a 1x2 subplot structure for the two sites\n",
    "fig, axs = plt.subplots(1, 2, figsize=(15, 10), constrained_layout=True)\n",
    "\n",
    "# Flatten the array of axes for easy iteration\n",
    "axs = axs.flatten()\n",
    "\n",
    "# Plot the hourly bike_count for each counter during the specified time period for each site\n",
    "for idx, site_name in enumerate(sites_of_interest):\n",
    "    # Filter the data for the given site and time period\n",
    "    site_time_data = data_train[(data_train['site_name'] == site_name) & \n",
    "                                (data_train['date'] >= start_date) & \n",
    "                                (data_train['date'] < end_date)]\n",
    "\n",
    "    # Get the list of all unique counters at the current site\n",
    "    unique_counters = site_time_data['counter_name'].unique()\n",
    "\n",
    "    # Plot the hourly bike_count for each counter\n",
    "    for counter in unique_counters:\n",
    "        # Apply mask for the current counter\n",
    "        mask = site_time_data[\"counter_name\"] == counter\n",
    "        counter_data = site_time_data[mask]\n",
    "\n",
    "        # Group data by hour and sum bike counts\n",
    "        hourly_counts = counter_data.groupby(counter_data['date'].dt.hour)['bike_count'].sum().reset_index()\n",
    "\n",
    "        # Plot the data with the counter name as the label on the appropriate subplot\n",
    "        axs[idx].plot(hourly_counts['date'], hourly_counts['bike_count'], label=counter)\n",
    "\n",
    "    # Add shaded areas for typical commute hours\n",
    "    axs[idx].fill_betweenx(y=[0, max(hourly_counts['bike_count'])], x1=6, x2=9, color='red', alpha=0.3, label='Commute Hours (6-9 AM, 4-7 PM)')\n",
    "    axs[idx].fill_betweenx(y=[0, max(hourly_counts['bike_count'])], x1=16, x2=19, color='red', alpha=0.3)\n",
    "\n",
    "    # Finalize each subplot\n",
    "    axs[idx].set_title(f'{site_name} (2020-09-01 Hourly)')\n",
    "    axs[idx].set_xlabel('Hour of the Day')\n",
    "    axs[idx].set_ylabel('Bike Count')\n",
    "    axs[idx].legend(title='Counter Name', loc='upper left')\n",
    "    axs[idx].tick_params(axis='x')\n",
    "\n",
    "# Add a separate legend for the shaded areas\n",
    "commute_hours_patch = plt.Line2D([0], [0], color='red', label='Typical French Commute Hours (6-9 AM, 4-7 PM)', linewidth=10, alpha=0.3)\n",
    "fig.legend(handles=[commute_hours_patch], loc='lower center', ncol=2)\n",
    "\n",
    "# Adjust the layout so that all subplots fit into the figure neatly\n",
    "plt.show()\n"
   ]
  },
  {
   "cell_type": "markdown",
   "metadata": {},
   "source": [
    "- > Why should we use the target variable as log(count_bike) instead of count_bike ?"
   ]
  },
  {
   "cell_type": "markdown",
   "metadata": {},
   "source": [
    "Because we see that the hourly pattern has a clear variation between work days and weekends. If we look at the distribution of the target variable it skewed and non normal."
   ]
  },
  {
   "cell_type": "code",
   "execution_count": null,
   "metadata": {},
   "outputs": [],
   "source": [
    "ax = sns.histplot(data_train, x=\"bike_count\", kde=True, bins=50)"
   ]
  },
  {
   "cell_type": "markdown",
   "metadata": {},
   "source": [
    "The histogram indicates that the bike_count data is highly skewed to the right, with a large number of counts close to zero and few counts reaching higher values. The KDE line, which is the smooth curve on the histogram, confirms this skewness by showing the peak near the lower end of the bike_count range and a long tail stretching towards the higher counts."
   ]
  },
  {
   "cell_type": "markdown",
   "metadata": {},
   "source": [
    "We deduce that: Least square loss would not be appropriate to model it since it is designed for normal error distributions. One way to precede would be to transform the variable with a logarithmic transformation,\n",
    "```py\n",
    "data['log_bike_count'] = np.log(1 + data['bike_count'])\n",
    "```"
   ]
  },
  {
   "cell_type": "code",
   "execution_count": null,
   "metadata": {},
   "outputs": [],
   "source": [
    "ax = sns.histplot(data_train, x=\"log_bike_count\", kde=True, bins=50)"
   ]
  },
  {
   "cell_type": "markdown",
   "metadata": {},
   "source": [
    "Conclusion: it has a more pronounced central mode, but is still non symmetric. In the following, **we use `log_bike_count` as the target variable** as otherwise `bike_count` ranges over 3 orders of magnitude and least square loss would be dominated by the few large values. "
   ]
  },
  {
   "cell_type": "markdown",
   "metadata": {},
   "source": [
    "-----------------------------------------------------------------------------------------------\n",
    "#### 3) How to handle missing values ?"
   ]
  },
  {
   "cell_type": "markdown",
   "metadata": {},
   "source": [
    "- > Visualization of the missing values for the target variable for an example site : 152 Boulevard du Montparnasse"
   ]
  },
  {
   "cell_type": "markdown",
   "metadata": {},
   "source": [
    "Let's not be tricked in our dataset: there are no missing values but a lot (~8%) of values for bike_count that are null for certain counters which is certainly a bug of the counter (and not related to covid when we see the dates)"
   ]
  },
  {
   "cell_type": "markdown",
   "metadata": {},
   "source": [
    "Let's visualize the null values by taking the example of two sites: \"152 Boulevard du Montparnasse\" and \"20 Avenue de Clichy\""
   ]
  },
  {
   "cell_type": "code",
   "execution_count": null,
   "metadata": {},
   "outputs": [],
   "source": [
    "# Create a figure for the subplots\n",
    "plt.figure(figsize=(30, 7))  # La largeur est doublée pour accueillir deux graphes côte à côte.\n",
    "\n",
    "# Subplot for \"152 boulevard du Montparnasse\"\n",
    "plt.subplot(1, 2, 1)  # 1 ligne, 2 colonnes, position 1\n",
    "\n",
    "# Filtering and plotting for \"152 boulevard du Montparnasse\"\n",
    "montparnasse_data = data_train[data_train['site_name'] == \"152 boulevard du Montparnasse\"]\n",
    "unique_counters_montparnasse = montparnasse_data['counter_name'].unique()\n",
    "for counter in unique_counters_montparnasse:\n",
    "    counter_data = montparnasse_data[montparnasse_data[\"counter_name\"] == counter]\n",
    "    weekly_counts = counter_data.groupby(pd.Grouper(freq=\"1w\", key=\"date\"))[\"bike_count\"].sum()\n",
    "    weekly_counts.plot(label=counter)\n",
    "\n",
    "# Finalize the subplot\n",
    "plt.title('Weekly Aggregated Bike Count for Each Counter at the site: 152 Boulevard du Montparnasse')\n",
    "plt.xlabel('Date')\n",
    "plt.ylabel('Aggregated Bike Count')\n",
    "plt.legend(title='Counter Name')\n",
    "\n",
    "# Subplot for \"20 Avenue de Clichy\"\n",
    "plt.subplot(1, 2, 2)  # 1 ligne, 2 colonnes, position 2\n",
    "\n",
    "# Filtering and plotting for \"20 Avenue de Clichy\"\n",
    "clichy_data = data_train[data_train['site_name'] == \"20 Avenue de Clichy\"]\n",
    "unique_counters_clichy = clichy_data['counter_name'].unique()\n",
    "for counter in unique_counters_clichy:\n",
    "    counter_data = clichy_data[clichy_data[\"counter_name\"] == counter]\n",
    "    weekly_counts = counter_data.groupby(pd.Grouper(freq=\"1w\", key=\"date\"))[\"bike_count\"].sum()\n",
    "    weekly_counts.plot(label=counter)\n",
    "\n",
    "# Finalize the subplot\n",
    "plt.title('Weekly Aggregated Bike Count for Each Counter at the site: 20 Avenue de Clichy')\n",
    "plt.xlabel('Date')\n",
    "plt.ylabel('Aggregated Bike Count')\n",
    "plt.legend(title='Counter Name')\n",
    "\n",
    "# Show the figure with subplots\n",
    "plt.tight_layout()  \n",
    "plt.show()\n"
   ]
  },
  {
   "cell_type": "markdown",
   "metadata": {},
   "source": [
    "We see null values for 20 days for Montparnasse site and 3 months for Avenue Clichy which is not normal, we can suppose that the counters there were either bugged or they were under construction. What should we do with these null values ?\n",
    "\n",
    "We will apply different methods to handle this problem"
   ]
  },
  {
   "cell_type": "markdown",
   "metadata": {},
   "source": [
    "- > Option 1: Replace them by the mean of each counter"
   ]
  },
  {
   "cell_type": "markdown",
   "metadata": {},
   "source": [
    "- > Option 2: Predict them"
   ]
  },
  {
   "cell_type": "markdown",
   "metadata": {},
   "source": [
    "- > Option 3: Not doing anything"
   ]
  },
  {
   "cell_type": "markdown",
   "metadata": {},
   "source": [
    "- > Option 4: Deleting them"
   ]
  },
  {
   "cell_type": "markdown",
   "metadata": {},
   "source": [
    "We invite you to see the data processing and feature engineering in which we detail all that."
   ]
  },
  {
   "cell_type": "markdown",
   "metadata": {},
   "source": [
    "Furthermore, we see in the below code that when analyzing the installation dates of counters, it's noted that only the counters located at the site \"254 rue de Vaugirard\" fall under the category of \"Installed AFTER 2020-09-01.\" This observation carries a significant implication for the analysis of the `bike_count` variable for this specific site. \n",
    "\n",
    "The late installation of these counters, being post September 2020, suggests that there was a period during which bike traffic data was not captured for this site. Consequently, one can anticipate that the `bike_count` recorded at \"254 rue de Vaugirard\" might be lower compared to other sites where counters were installed earlier. \n",
    "\n",
    "This gap in data collection due to the delayed installation means that we likely missed counting a portion of the bike traffic that passed through this site during the period prior to the installation of the counters. Therefore, while interpreting the bike traffic data for \"254 rue de Vaugirard,\" it's important to bear in mind that the figures represent only a partial picture of the actual bike traffic, starting from the installation date of the counters."
   ]
  },
  {
   "cell_type": "code",
   "execution_count": null,
   "metadata": {},
   "outputs": [],
   "source": [
    "import pandas as pd\n",
    "\n",
    "# Extracting the earliest installation date for each counter\n",
    "installation_dates = data_train.groupby('counter_name')['counter_installation_date'].min()\n",
    "\n",
    "# Define the cutoff date\n",
    "cutoff_date = pd.Timestamp('2020-09-01')\n",
    "\n",
    "# Splitting into two groups: before and after the cutoff date\n",
    "before_cutoff = installation_dates[installation_dates < cutoff_date].index.tolist()\n",
    "after_cutoff = installation_dates[installation_dates >= cutoff_date].index.tolist()\n",
    "\n",
    "# Ensure both lists have the same length for DataFrame creation\n",
    "max_length = max(len(before_cutoff), len(after_cutoff))\n",
    "before_cutoff.extend([''] * (max_length - len(before_cutoff)))  # Use empty string instead of None\n",
    "after_cutoff.extend([''] * (max_length - len(after_cutoff)))\n",
    "\n",
    "# Creating a DataFrame with two columns\n",
    "installation_summary = pd.DataFrame({'Installed BEFORE 2020-09-01': before_cutoff, \n",
    "                                     'Installed AFTER 2020-09-01': after_cutoff})\n",
    "\n",
    "installation_summary\n"
   ]
  },
  {
   "cell_type": "markdown",
   "metadata": {},
   "source": [
    "-----------------------------------------------------------------------------------------------\n",
    "#### 4) The stationarity of our target is a good thing, why ?"
   ]
  },
  {
   "cell_type": "code",
   "execution_count": null,
   "metadata": {},
   "outputs": [],
   "source": [
    "from statsmodels.tsa.stattools import adfuller\n",
    "import pandas as pd\n",
    "\n",
    "def adf_test(timeseries):\n",
    "    print(\"Results of Dickey-Fuller Test:\")\n",
    "    dftest = adfuller(timeseries, autolag=\"AIC\")\n",
    "    dfoutput = pd.Series(\n",
    "        dftest[0:4],\n",
    "        index=[\n",
    "            \"Test Statistic\",\n",
    "            \"p-value\",\n",
    "            \"#Lags Used\",\n",
    "            \"Number of Observations Used\",\n",
    "        ],\n",
    "    )\n",
    "    for key, value in dftest[4].items():\n",
    "        dfoutput[\"Critical Value (%s)\" % key] = value\n",
    "    print(dfoutput)\n",
    "\n",
    "# Assuming 'log_bike_count' is a column in your data_train DataFrame\n",
    "# and you're interested in testing its stationarity\n",
    "\n",
    "# Perform the Dickey-Fuller test on a sample of the 'log_bike_count' series\n",
    "adf_test(data_train['log_bike_count'].dropna().sample(n=500, random_state=1))  # Ensure the series has no NaN values\n"
   ]
  },
  {
   "cell_type": "markdown",
   "metadata": {},
   "source": [
    "Based on the results of the Dickey-Fuller test, we observe that the p-value is significantly less than 5% . This outcome allows us to reject the null hypothesis, which posits that the `log_bike_count` time series is non-stationary, meaning it would contain a unit root. Consequently, we can conclude with confidence that our target variable, `log_bike_count`, is stationary.\n",
    "\n",
    "**Why is this important and beneficial?**\n",
    "\n",
    "1. **Modeling Assumption**: Many time series forecasting models, such as ARIMA (AutoRegressive Integrated Moving Average) and its variants, assume that the underlying data is stationary. Stationarity implies that the statistical properties of the process generating the time series do not change over time. This makes the process predictable and modelable.\n",
    "\n",
    "2. **Consistency in Mean and Variance**: Stationarity indicates that the mean, variance, and autocorrelation of the series remain constant over time. This consistency makes it easier to develop models that can forecast future values accurately because the forecasts are based on the assumption that future statistical properties will mirror those of the current time series.\n",
    "\n",
    "3. **Simplified Analysis**: Dealing with stationary data simplifies the process of analysis and modeling. You can apply various statistical modeling techniques without having to first transform the data to make it stationary.\n",
    "\n",
    "4. **Avoiding Spurious Results**: Non-stationary data can lead to spurious results in statistical hypothesis testing, which can mislead interpretations and forecasts. By confirming stationarity, we reduce the risk of such misleading analyses.\n",
    "\n",
    "5. **Long-term Forecasting**: Stationary data typically lacks long-term trends, which makes long-term forecasting more reliable, as the forecasts won’t be affected by changing trends over time.\n",
    "\n",
    "In summary, confirming that `log_bike_count` is stationary reassures us that we can proceed with further time series analysis, modeling, and forecasting using techniques that assume or require stationarity. This foundational understanding of the time series' nature is crucial for accurate and meaningful model development and predictions."
   ]
  },
  {
   "cell_type": "markdown",
   "metadata": {},
   "source": [
    "-----------------------------------------------------------------------------------------------\n",
    "#### 5) Deal with highly correlated variables"
   ]
  },
  {
   "cell_type": "markdown",
   "metadata": {},
   "source": [
    "- > Reduction of dimensionality with a correlation matrix"
   ]
  },
  {
   "cell_type": "markdown",
   "metadata": {},
   "source": [
    "First, let's calculate the correlation matrix (only for float or int variables)"
   ]
  },
  {
   "cell_type": "code",
   "execution_count": null,
   "metadata": {},
   "outputs": [],
   "source": [
    "# Filter the DataFrame to include only float or int types\n",
    "numerical_data_train = data_train.select_dtypes(include=[np.float64, np.int64])\n",
    "\n",
    "# Calculate the correlation matrix for numerical variables only\n",
    "correlation_matrix_numerical = numerical_data_train.corr()\n",
    "\n",
    "# Plotting the correlation matrix as a heatmap\n",
    "plt.figure(figsize=(12, 8))\n",
    "sns.heatmap(correlation_matrix_numerical, annot=True, cmap='coolwarm', center=0)\n",
    "plt.title('Correlation Matrix Heatmap for Numerical Variables')\n",
    "plt.show()\n"
   ]
  },
  {
   "cell_type": "markdown",
   "metadata": {},
   "source": [
    "The heatmap of the correlation matrix for numerical variables indicates that there are no particularly strong correlations between the different variables, except for the `bike_count` and its logarithmic transformation `log_bike_count`, which is normal. This strong correlation is expected since `log_bike_count` is directly derived from `bike_count`. The lack of strong correlations among the remaining variables suggests that multicollinearity is not a concern for this train dataset, and thus there is no immediate need to remove any explanatory variables based on the correlation analysis alone (except for the bike_count variable of course we remove it). This is beneficial because it allows us to retain all the numerical variables for further analysis without worrying about the adverse effects that highly correlated predictors can have on some models."
   ]
  },
  {
   "cell_type": "markdown",
   "metadata": {},
   "source": [
    " - > PCA analysis (Only commenting the PCA, not used in our models )"
   ]
  },
  {
   "cell_type": "markdown",
   "metadata": {},
   "source": [
    "Now, let's perform PCA to understand the contribution of each variable"
   ]
  },
  {
   "cell_type": "markdown",
   "metadata": {},
   "source": [
    "(This section is only in its embryonic stage. The full understanding of the PCA (Principal Component Analysis) is not yet complete, so this part should be taken with caution and might require more reflection. PCA has not been used in our models, but it could be the subject of a full study to reduce dimensionality.)"
   ]
  },
  {
   "cell_type": "code",
   "execution_count": null,
   "metadata": {},
   "outputs": [],
   "source": [
    "# Standardize the data\n",
    "scaler = StandardScaler()\n",
    "data_scaled = scaler.fit_transform(data_train.select_dtypes(include=np.number))  # Only select numerical columns\n",
    "\n",
    "# Apply PCA\n",
    "pca = PCA(n_components=2)  # Adjust the number of components as required\n",
    "pca.fit(data_scaled)\n",
    "\n",
    "# Get the PCA results\n",
    "pca_results = pd.DataFrame({'variance': pca.explained_variance_ratio_,\n",
    "                            'principal_component': ['PC1', 'PC2']})\n",
    "\n",
    "# Visualize the contributions of each principal component to the total variance\n",
    "plt.figure(figsize=(8, 5))\n",
    "sns.barplot(x='principal_component', y='variance', data=pca_results)\n",
    "plt.title('Contribution of Principal Components to Variance')\n",
    "plt.show()\n",
    "\n",
    "# Display the components\n",
    "print('Principal components:')\n",
    "print(pca.components_)\n",
    "\n",
    "# With the PCA components, you can observe the contributions of each feature.\n",
    "# The larger the absolute value of the coefficient, the more important the corresponding feature is in calculating the component."
   ]
  },
  {
   "cell_type": "markdown",
   "metadata": {},
   "source": [
    "The first principal component (PC1) accounts for a larger proportion of the variance compared to the second principal component (PC2). This is indicative of the fact that PC1 captures more information about the dataset than PC2.\n",
    "\n",
    "It is important to note that PCA is a dimensionality reduction technique that combines your original variables in a way that the new axes (principal components) are orthogonal to each other, thereby removing any correlation between them. The PCA loadings (the principal components matrix) tell you how each original variable contributes to each principal component.\n",
    "\n",
    "The decision to remove explanatory variables based on PCA is not straightforward. PCA can inform you about the underlying structure of your data and can suggest which variables might be redundant, but whether to remove variables should be based on a combination of PCA results and domain knowledge.\n",
    "\n",
    "Given the lack of strong correlations (except between `bike_count` and `log_bike_count`) and the fact that PCA is not explicitly suggesting the removal of variables, we may not need to eliminate any explanatory variables at this point."
   ]
  },
  {
   "cell_type": "markdown",
   "metadata": {},
   "source": [
    "#### 6) Autocorrelation"
   ]
  },
  {
   "cell_type": "code",
   "execution_count": 20,
   "metadata": {},
   "outputs": [
    {
     "data": {
      "image/png": "[encoded data removed]",
      "text/plain": [
       "<Figure size 640x480 with 1 Axes>"
      ]
     },
     "metadata": {
      "image/png": {
       "height": 434,
       "width": 568
      }
     },
     "output_type": "display_data"
    }
   ],
   "source": [
    "# ACF\n",
    "import statsmodels.api as sm\n",
    "from statsmodels.graphics.tsaplots import plot_acf\n",
    "\n",
    "\n",
    "series = data_train.set_index('date')['log_bike_count']\n",
    "\n",
    "acf = sm.tsa.acf(series) \n",
    "sm.graphics.tsa.plot_acf(acf, alpha=.05, lags=30)\n",
    "plt.savefig('acf.png')\n",
    "plt.show()"
   ]
  },
  {
   "cell_type": "code",
   "execution_count": 23,
   "metadata": {
    "scrolled": true
   },
   "outputs": [
    {
     "data": {
      "image/png": "[encoded data removed]",
      "text/plain": [
       "<Figure size 640x480 with 1 Axes>"
      ]
     },
     "metadata": {
      "image/png": {
       "height": 434,
       "width": 568
      }
     },
     "output_type": "display_data"
    }
   ],
   "source": [
    "# PACF\n",
    "\n",
    "pacf = sm.tsa.acf(series) \n",
    "sm.graphics.tsa.plot_pacf(pacf, alpha=.05, lags=20)\n",
    "plt.savefig('pacf.png')\n",
    "fig.savefig(fname=(plotpath + \"test.png\"))\n",
    "\n",
    "plt.show()"
   ]
  },
  {
   "cell_type": "markdown",
   "metadata": {},
   "source": [
    "#### 7) Kruskal Test for Seasonality"
   ]
  },
  {
   "cell_type": "code",
   "execution_count": 38,
   "metadata": {},
   "outputs": [
    {
     "data": {
      "text/plain": [
       "KruskalResult(statistic=271368.7752370059, pvalue=0.0)"
      ]
     },
     "execution_count": 38,
     "metadata": {},
     "output_type": "execute_result"
    }
   ],
   "source": [
    "from scipy import stats\n",
    "\n",
    "# Seasonality Hourly\n",
    "res = []\n",
    "\n",
    "for i in data_train['date'].dt.hour.unique():\n",
    "    res.append(data_train.loc[data_train['date'].dt.hour == i]['log_bike_count'].values)\n",
    "    \n",
    "results = stats.kruskal(*res)\n",
    "results "
   ]
  },
  {
   "cell_type": "code",
   "execution_count": 42,
   "metadata": {},
   "outputs": [
    {
     "data": {
      "text/plain": [
       "KruskalResult(statistic=905.6678589094289, pvalue=3.9180289497077666e-171)"
      ]
     },
     "execution_count": 42,
     "metadata": {},
     "output_type": "execute_result"
    }
   ],
   "source": [
    "# Seasonality Daily\n",
    "res = []\n",
    "\n",
    "for i in data_train['date'].dt.day.unique():\n",
    "    res.append(data_train.loc[data_train['date'].dt.day == i]['log_bike_count'].values)\n",
    "    \n",
    "results = stats.kruskal(*res)\n",
    "results "
   ]
  },
  {
   "cell_type": "code",
   "execution_count": 35,
   "metadata": {},
   "outputs": [
    {
     "data": {
      "text/plain": [
       "KruskalResult(statistic=17339.135124607208, pvalue=0.0)"
      ]
     },
     "execution_count": 35,
     "metadata": {},
     "output_type": "execute_result"
    }
   ],
   "source": [
    "# Seasonality Monthly\n",
    "res = []\n",
    "\n",
    "for i in data_train['date'].dt.month.unique():\n",
    "    res.append(data_train.loc[data_train['date'].dt.month == i]['log_bike_count'].values)\n",
    "    \n",
    "results = stats.kruskal(*res)\n",
    "results "
   ]
  },
  {
   "cell_type": "code",
   "execution_count": 44,
   "metadata": {},
   "outputs": [
    {
     "data": {
      "text/plain": [
       "KruskalResult(statistic=8.20170665123604, pvalue=0.004185100456879202)"
      ]
     },
     "execution_count": 44,
     "metadata": {},
     "output_type": "execute_result"
    }
   ],
   "source": [
    "# Seasonality yearly\n",
    "res = []\n",
    "\n",
    "for i in data_train['date'].dt.year.unique():\n",
    "    res.append(data_train.loc[data_train['date'].dt.year == i]['log_bike_count'].values)\n",
    "    \n",
    "results = stats.kruskal(*res)\n",
    "results "
   ]
  },
  {
   "cell_type": "markdown",
   "metadata": {},
   "source": [
    "A non-parametric method for testing whether samples originate from the same distribution. Since pvalue smaller alpha there is evidence of seasonality. A low p-value suggests that there are significant differences between the groups, warranting the existence of seasonality. "
   ]
  },
  {
   "cell_type": "markdown",
   "metadata": {},
   "source": [
    "-----------------------------------------------------------------------------------------------\n",
    "#### 8) References about the dataset"
   ]
  },
  {
   "cell_type": "markdown",
   "metadata": {},
   "source": [
    "https://www.velib-metropole.fr/donnees-open-data-gbfs-du-service-velib-metropole (OPEN DATA LICENSE)"
   ]
  }
 ],
 "metadata": {
  "kernelspec": {
   "display_name": "Python 3 (ipykernel)",
   "language": "python",
   "name": "python3"
  },
  "language_info": {
   "codemirror_mode": {
    "name": "ipython",
    "version": 3
   },
   "file_extension": ".py",
   "mimetype": "text/x-python",
   "name": "python",
   "nbconvert_exporter": "python",
   "pygments_lexer": "ipython3",
   "version": "3.9.7"
  }
 },
 "nbformat": 4,
 "nbformat_minor": 2
}
