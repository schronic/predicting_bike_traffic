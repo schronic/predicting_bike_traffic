{
 "cells": [
  {
   "cell_type": "markdown",
   "metadata": {},
   "source": [
    "Works only in pairs.\n",
    "You have to submit a script and not a .csv. The script must generate the .csv output.\n",
    "All libraries or tools are allowed, and scikit-learn models are the preferred way to create pipelines.\n",
    "Beyond the external data already provided, you can enrich your pipeline with any relevant public dataset.\n",
    "You can submit up to 20 new scripts per day. You keep the best score.\n",
    "The private leaderboard score will become available at the end of the competition. You are not evaluated with the public leaderboard."
   ]
  },
  {
   "cell_type": "code",
   "execution_count": null,
   "metadata": {},
   "outputs": [],
   "source": [
    "pip install -U -r requirements.txt"
   ]
  }
 ],
 "metadata": {
  "kernelspec": {
   "display_name": "Python 3",
   "language": "python",
   "name": "python3"
  },
  "language_info": {
   "name": "python",
   "version": "3.7.4"
  }
 },
 "nbformat": 4,
 "nbformat_minor": 2
}
