{
 "cells": [
  {
   "cell_type": "code",
   "execution_count": null,
   "id": "d8e555df",
   "metadata": {},
   "outputs": [
    {
     "name": "stdout",
     "output_type": "stream",
     "text": [
      "Fitting 8 folds for each of 10 candidates, totalling 80 fits\n"
     ]
    }
   ],
   "source": [
    "import os\n",
    "import scipy.stats as stats\n",
    "from sklearn.neural_network import MLPRegressor\n",
    "from tuning import optimize_model\n",
    "\n",
    "# Initialize the MLPRegressor\n",
    "estimator = MLPRegressor()\n",
    "\n",
    "# Define hyperparameters for tuning\n",
    "hyperparameters = {\n",
    "    \"mlpregressor__hidden_layer_sizes\": [(50,), (100,), (50, 50)],\n",
    "    \"mlpregressor__activation\": ['tanh', 'relu', 'logistic'],\n",
    "    \"mlpregressor__solver\": ['sgd', 'adam'],\n",
    "    \"mlpregressor__alpha\": stats.uniform(0.01, 0.03),\n",
    "    \"mlpregressor__learning_rate\": ['constant', 'adaptive'],\n",
    "    \"mlpregressor__learning_rate_init\": stats.uniform(0.001, 0.01),\n",
    "    \"mlpregressor__max_iter\": stats.randint(200, 500)\n",
    "}\n",
    "\n",
    "# Define the path and filename for saving tuning results\n",
    "results_path = \"./tuning_results/tuning_MLP\"\n",
    "\n",
    "# Ensure the results_path exists\n",
    "if not os.path.exists(results_path):\n",
    "    os.makedirs(results_path)\n",
    "\n",
    "try:\n",
    "    # Call the optimize_model function with the defined parameters\n",
    "    optimize_model(estimator, hyperparameters, results_path, n_iter=10, parallel_jobs=-1)\n",
    "\n",
    "except Exception as e:\n",
    "    print(f\"An error occurred during model optimization: {e}\")\n"
   ]
  }
 ],
 "metadata": {
  "kernelspec": {
   "display_name": "Python 3 (ipykernel)",
   "language": "python",
   "name": "python3"
  },
  "language_info": {
   "codemirror_mode": {
    "name": "ipython",
    "version": 3
   },
   "file_extension": ".py",
   "mimetype": "text/x-python",
   "name": "python",
   "nbconvert_exporter": "python",
   "pygments_lexer": "ipython3",
   "version": "3.9.7"
  }
 },
 "nbformat": 4,
 "nbformat_minor": 5
}
