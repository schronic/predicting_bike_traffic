{
 "cells": [
  {
   "cell_type": "code",
   "execution_count": 1,
   "id": "ce10079e",
   "metadata": {},
   "outputs": [],
   "source": [
    "import os\n",
    "import datetime\n",
    "import numpy as np\n",
    "import pandas as pd\n",
    "import ast\n",
    "import matplotlib.pyplot as plt\n",
    "\n",
    "from sklearn.compose import ColumnTransformer\n",
    "from sklearn.preprocessing import FunctionTransformer, OneHotEncoder, StandardScaler\n",
    "from sklearn.pipeline import make_pipeline\n",
    "from sklearn.metrics import mean_squared_error\n",
    "\n",
    "# Model imports\n",
    "from xgboost import XGBRegressor\n",
    "from lightgbm import LGBMRegressor\n",
    "from sklearn.linear_model import ElasticNet, Ridge\n",
    "from sklearn.neural_network import MLPRegressor\n",
    "\n",
    "# Custom module imports\n",
    "import feature_engineering\n",
    "import helper_functions\n",
    "import problem"
   ]
  },
  {
   "cell_type": "code",
   "execution_count": 2,
   "id": "ba9f4c21",
   "metadata": {},
   "outputs": [],
   "source": [
    "%config InlineBackend.figure_format = 'retina'"
   ]
  },
  {
   "cell_type": "code",
   "execution_count": 3,
   "id": "72cbcf00",
   "metadata": {},
   "outputs": [],
   "source": [
    "np.random.seed(42)"
   ]
  },
  {
   "cell_type": "code",
   "execution_count": 4,
   "id": "f3dcc099",
   "metadata": {},
   "outputs": [],
   "source": [
    "iteration_number = datetime.datetime.now().strftime(\"%Y%m%d%H%M\")"
   ]
  },
  {
   "cell_type": "code",
   "execution_count": 5,
   "id": "dd334730",
   "metadata": {},
   "outputs": [],
   "source": [
    "# Define the path and filename for saving tuning results\n",
    "results_path = f\"./model_iterations/iteration_{iteration_number}\"\n",
    "\n",
    "# Ensure the results_path exists\n",
    "if not os.path.exists(results_path):\n",
    "    os.makedirs(results_path)"
   ]
  },
  {
   "cell_type": "code",
   "execution_count": null,
   "id": "249c5864",
   "metadata": {},
   "outputs": [],
   "source": []
  },
  {
   "cell_type": "markdown",
   "id": "a0032add",
   "metadata": {},
   "source": [
    "# Load Data"
   ]
  },
  {
   "cell_type": "code",
   "execution_count": 6,
   "id": "1340b9cf",
   "metadata": {},
   "outputs": [],
   "source": [
    "X_train, y_train = problem.get_train_data(\"..\", basic=False)\n",
    "X_test, y_test = problem.get_test_data(\"..\")"
   ]
  },
  {
   "cell_type": "code",
   "execution_count": 7,
   "id": "adf33a4e",
   "metadata": {},
   "outputs": [],
   "source": [
    "# Path to results \n",
    "path_tuning = \"tuning_results\""
   ]
  },
  {
   "cell_type": "markdown",
   "id": "7de57b32",
   "metadata": {},
   "source": [
    "# Initalizing the Pipe"
   ]
  },
  {
   "cell_type": "code",
   "execution_count": 8,
   "id": "1fb6d1f6",
   "metadata": {},
   "outputs": [],
   "source": [
    "def init_pipe(cyclic=True):\n",
    "    # Feature categories\n",
    "    if cyclic == True:\n",
    "        date_features = [\"hour_cos\", \"hour_sin\", \"weekday_cos\", \"weekday_sin\", \n",
    "                     \"day_cos\", \"day_sin\", \"week_cos\", \"week_sin\", \"month_cos\", \"month_sin\"]\n",
    "        date_condition = (\"date_passthrough\", \"passthrough\", date_features)\n",
    "    else:\n",
    "        date_features = [\"hour\", \"weekday\", \"day\", \"week\", \"month\"]\n",
    "        date_condition = (\"date_onehot\", OneHotEncoder(handle_unknown=\"ignore\"), date_features)\n",
    "\n",
    "    numeric_features = ['temp', 'humidity', 'precip', 'cloudcover']\n",
    "    # Removed: 'velib_mean', 'velib_std', 'velib_min', 'velib_25%', 'latitude', 'longitude', 'windspeed' \n",
    "\n",
    "    categorical_features = [\"counter_name\", \"site_name\"]\n",
    "    # Removed:  \"year\"\n",
    "\n",
    "    binary_features = [\"precipprob\", \"in_Lockdown\", \"is_Bank_Holiday\", \n",
    "                       \"if_School_Holiday\", \"is_workday\"]\n",
    "    # Removed:  \"is_Rush_Hour\"\n",
    "\n",
    "    # Function to transform and add additional features\n",
    "    feature_transformer = FunctionTransformer(feature_engineering._additional_features)\n",
    "\n",
    "    # Preprocessing pipeline\n",
    "    data_preprocessor = ColumnTransformer([\n",
    "        (\"numeric_scaler\", StandardScaler(), numeric_features),\n",
    "        (\"categorical_onehot\", OneHotEncoder(handle_unknown=\"ignore\"), categorical_features),\n",
    "        (\"binary_passthrough\", \"passthrough\", binary_features),\n",
    "        date_condition\n",
    "    ])\n",
    "    \n",
    "    return feature_transformer, data_preprocessor\n"
   ]
  },
  {
   "cell_type": "markdown",
   "id": "95d0fcd8",
   "metadata": {},
   "source": [
    "# Model Evaluation"
   ]
  },
  {
   "cell_type": "markdown",
   "id": "18221fbb",
   "metadata": {},
   "source": [
    "## LightGBM"
   ]
  },
  {
   "cell_type": "code",
   "execution_count": 9,
   "id": "e95c8e20",
   "metadata": {},
   "outputs": [],
   "source": [
    "light_gbm_params = pd.read_csv(os.path.join(path_tuning, 'tuning_LightGBM/202311291749_results.csv'))"
   ]
  },
  {
   "cell_type": "code",
   "execution_count": 10,
   "id": "0e1005c5",
   "metadata": {},
   "outputs": [],
   "source": [
    "light_gbm_max_params = light_gbm_params.loc[light_gbm_params['mean_test_score'] == light_gbm_params['mean_test_score'].max()]\n"
   ]
  },
  {
   "cell_type": "code",
   "execution_count": 11,
   "id": "b32c16ef",
   "metadata": {},
   "outputs": [],
   "source": [
    "best_params = ast.literal_eval(light_gbm_max_params.params.values[0])\n",
    "params_new = {key.split('__')[1]: value for key, value in best_params.items()}"
   ]
  },
  {
   "cell_type": "code",
   "execution_count": 12,
   "id": "7bef6104",
   "metadata": {},
   "outputs": [],
   "source": [
    "params_new"
   ]
  },
  {
   "cell_type": "code",
   "execution_count": 13,
   "id": "05d7ff2e",
   "metadata": {},
   "outputs": [],
   "source": [
    "print(f\"Mean Train set, RMSE = {light_gbm_max_params['mean_train_score'].values[0]:.2f}\")\n",
    "print(f\"Mean Test  set, RMSE = {light_gbm_max_params['mean_test_score'].values[0]:.2f}\")"
   ]
  },
  {
   "cell_type": "code",
   "execution_count": 14,
   "id": "2d7b0273",
   "metadata": {},
   "outputs": [],
   "source": [
    "# Define hyperparameters for tuning\n",
    "model = LGBMRegressor(**params_new)"
   ]
  },
  {
   "cell_type": "code",
   "execution_count": 15,
   "id": "07bb6cfd",
   "metadata": {},
   "outputs": [],
   "source": [
    "feature_transformer, data_preprocessor = init_pipe(False)\n",
    "lgbm_reg_pipe = make_pipeline(feature_transformer, data_preprocessor, model)\n",
    "lgbm_reg_pipe.fit(X_train, y_train)\n",
    "\n",
    "y_train_prediction = lgbm_reg_pipe.predict(X_train)\n",
    "y_test_prediction = lgbm_reg_pipe.predict(X_test)"
   ]
  },
  {
   "cell_type": "code",
   "execution_count": 16,
   "id": "c65c9c33",
   "metadata": {},
   "outputs": [],
   "source": [
    "print(\n",
    "    f\"Train set, RMSE={mean_squared_error(y_train, y_train_prediction, squared=False):.2f}\"\n",
    ")\n",
    "print(\n",
    "    f\"Test set, RMSE={mean_squared_error(y_test, y_test_prediction, squared=False):.2f}\"\n",
    ")"
   ]
  },
  {
   "cell_type": "code",
   "execution_count": 17,
   "id": "3e52205a",
   "metadata": {},
   "outputs": [],
   "source": [
    "ind = np.argpartition(model.feature_importances_, -10)[-10:]\n",
    "\n",
    "features = data_preprocessor.get_feature_names_out()[ind]\n",
    "importance = model.feature_importances_[ind]\n",
    "\n",
    "helper_functions.feature_importance(features, importance, 'LightGBM', results_path)"
   ]
  },
  {
   "cell_type": "code",
   "execution_count": 18,
   "id": "6bb712cf",
   "metadata": {},
   "outputs": [],
   "source": [
    "helper_functions.sample_week_plot(X_test, y_test_prediction, y_test, 'LightGBM', results_path)"
   ]
  },
  {
   "cell_type": "code",
   "execution_count": 19,
   "id": "d4446635",
   "metadata": {},
   "outputs": [],
   "source": [
    "helper_functions.sample_day_plot(X_test, y_test_prediction, y_test, 'LightGBM', results_path)"
   ]
  },
  {
   "cell_type": "code",
   "execution_count": 20,
   "id": "23823d07",
   "metadata": {},
   "outputs": [],
   "source": [
    "helper_functions.residual_plot(y_test_prediction, y_test, 'LightGBM', results_path)"
   ]
  },
  {
   "cell_type": "markdown",
   "id": "cec4cda5",
   "metadata": {},
   "source": [
    "# XGBoost"
   ]
  },
  {
   "cell_type": "code",
   "execution_count": 109,
   "id": "40c528e1",
   "metadata": {},
   "outputs": [],
   "source": [
    "xgb_params = pd.read_csv(os.path.join(path_tuning, 'tuning_XGB/202311291808_results.csv'))"
   ]
  },
  {
   "cell_type": "code",
   "execution_count": 110,
   "id": "ed071d0a",
   "metadata": {},
   "outputs": [],
   "source": [
    "xgb_max_params = xgb_params.loc[xgb_params['mean_test_score'] == xgb_params['mean_test_score'].max()]"
   ]
  },
  {
   "cell_type": "code",
   "execution_count": 111,
   "id": "eebd7409",
   "metadata": {},
   "outputs": [],
   "source": [
    "best_params = ast.literal_eval(xgb_max_params.params.values[0])\n",
    "params_new = {key.split('__')[1]: value for key, value in best_params.items()}"
   ]
  },
  {
   "cell_type": "code",
   "execution_count": 112,
   "id": "1f612d48",
   "metadata": {},
   "outputs": [
    {
     "data": {
      "text/plain": [
       "{'colsample_bylevel': 0.8521996866155073,\n",
       " 'colsample_bynode': 0.40206978609179916,\n",
       " 'colsample_bytree': 0.7939731958901715,\n",
       " 'gamma': 2.6404526620730233,\n",
       " 'learning_rate': 0.12941538610818043,\n",
       " 'max_depth': 16,\n",
       " 'n_estimators': 114,\n",
       " 'reg_alpha': 0.7982198008923578,\n",
       " 'reg_lambda': 0.3872742781123205,\n",
       " 'subsample': 0.39340764441360193}"
      ]
     },
     "execution_count": 112,
     "metadata": {},
     "output_type": "execute_result"
    }
   ],
   "source": [
    "params_new"
   ]
  },
  {
   "cell_type": "code",
   "execution_count": 113,
   "id": "18716176",
   "metadata": {},
   "outputs": [
    {
     "name": "stdout",
     "output_type": "stream",
     "text": [
      "Mean Train set, RMSE = -0.41\n",
      "Mean Test  set, RMSE = -0.68\n"
     ]
    }
   ],
   "source": [
    "print(f\"Mean Train set, RMSE = {xgb_max_params['mean_train_score'].values[0]:.2f}\")\n",
    "print(f\"Mean Test  set, RMSE = {xgb_max_params['mean_test_score'].values[0]:.2f}\")"
   ]
  },
  {
   "cell_type": "code",
   "execution_count": 114,
   "id": "a15f3571",
   "metadata": {},
   "outputs": [],
   "source": [
    "# Define hyperparameters for tuning\n",
    "model = XGBRegressor(**params_new)"
   ]
  },
  {
   "cell_type": "code",
   "execution_count": 115,
   "id": "f1125278",
   "metadata": {},
   "outputs": [],
   "source": [
    "\n",
    "feature_transformer, data_preprocessor = init_pipe(False)\n",
    "xgb_reg_pipe = make_pipeline(feature_transformer, data_preprocessor, model)\n",
    "xgb_reg_pipe.fit(X_train, y_train)\n",
    "\n",
    "y_train_prediction = xgb_reg_pipe.predict(X_train)\n",
    "y_test_prediction = xgb_reg_pipe.predict(X_test)"
   ]
  },
  {
   "cell_type": "code",
   "execution_count": 116,
   "id": "cae1f927",
   "metadata": {},
   "outputs": [
    {
     "name": "stdout",
     "output_type": "stream",
     "text": [
      "Train set, RMSE=0.38\n",
      "Test set, RMSE=0.35\n"
     ]
    }
   ],
   "source": [
    "print(\n",
    "    f\"Train set, RMSE={mean_squared_error(y_train, y_train_prediction, squared=False):.2f}\"\n",
    ")\n",
    "print(\n",
    "    f\"Test set, RMSE={mean_squared_error(y_test, y_test_prediction, squared=False):.2f}\"\n",
    ")"
   ]
  },
  {
   "cell_type": "code",
   "execution_count": 118,
   "id": "771427bb",
   "metadata": {},
   "outputs": [
    {
     "data": {
      "text/plain": [
       "'./model_iterations/iteration_202311291848'"
      ]
     },
     "execution_count": 118,
     "metadata": {},
     "output_type": "execute_result"
    }
   ],
   "source": [
    "results_path"
   ]
  },
  {
   "cell_type": "code",
   "execution_count": 119,
   "id": "561262ce",
   "metadata": {},
   "outputs": [
    {
     "data": {
      "image/png": "[encoded data removed]",
      "text/plain": [
       "<Figure size 1200x600 with 1 Axes>"
      ]
     },
     "metadata": {
      "image/png": {
       "height": 527,
       "width": 1389
      }
     },
     "output_type": "display_data"
    }
   ],
   "source": [
    "ind = np.argpartition(model.feature_importances_, -10)[-10:]\n",
    "\n",
    "features = data_preprocessor.get_feature_names_out()[ind]\n",
    "importance = model.feature_importances_[ind]\n",
    "\n",
    "fig = plt.figure(figsize=(12, 6))\n",
    "plt.barh(range(len(ind)), importance, align='center')\n",
    "plt.yticks(range(len(ind)), features)\n",
    "plt.title('Feature Importance XGB')\n",
    "plt.grid()\n",
    "plt.savefig(f'{results_path}/feature_importance_XGB.png')\n",
    "\n",
    "plt.show()"
   ]
  },
  {
   "cell_type": "code",
   "execution_count": 30,
   "id": "02d0ae23",
   "metadata": {},
   "outputs": [],
   "source": [
    "helper_functions.sample_week_plot(X_test, y_test_prediction, y_test, 'XGBoost', results_path)\n"
   ]
  },
  {
   "cell_type": "code",
   "execution_count": 31,
   "id": "a79c40a1",
   "metadata": {},
   "outputs": [],
   "source": [
    "helper_functions.sample_day_plot(X_test, y_test_prediction, y_test, 'XGBoost', results_path)\n"
   ]
  },
  {
   "cell_type": "code",
   "execution_count": 32,
   "id": "88d14167",
   "metadata": {},
   "outputs": [],
   "source": [
    "helper_functions.residual_plot(y_test_prediction, y_test, 'XGBoost', results_path)\n"
   ]
  },
  {
   "cell_type": "markdown",
   "id": "1a92ae9c",
   "metadata": {},
   "source": [
    "## MLP Network"
   ]
  },
  {
   "cell_type": "code",
   "execution_count": 33,
   "id": "cf8eba51",
   "metadata": {},
   "outputs": [],
   "source": [
    "mlp_params = pd.read_csv(os.path.join(path_tuning, 'tuning_mlp/202311291529_results.csv'))"
   ]
  },
  {
   "cell_type": "code",
   "execution_count": 34,
   "id": "035364df",
   "metadata": {},
   "outputs": [],
   "source": [
    "mlp_max_params = mlp_params.loc[mlp_params['mean_test_score'] == mlp_params['mean_test_score'].max()]"
   ]
  },
  {
   "cell_type": "code",
   "execution_count": 35,
   "id": "7614b585",
   "metadata": {},
   "outputs": [],
   "source": [
    "best_params = ast.literal_eval(mlp_max_params.params.values[0])\n",
    "params_new = {key.split('__')[1]: value for key, value in best_params.items()}"
   ]
  },
  {
   "cell_type": "code",
   "execution_count": 36,
   "id": "c8cde557",
   "metadata": {},
   "outputs": [],
   "source": [
    "params_new"
   ]
  },
  {
   "cell_type": "code",
   "execution_count": 37,
   "id": "17fadf38",
   "metadata": {
    "scrolled": true
   },
   "outputs": [],
   "source": [
    "print(f\"Mean Train set, RMSE = {mlp_max_params['mean_train_score'].values[0]:.2f}\")\n",
    "print(f\"Mean Test  set, RMSE = {mlp_max_params['mean_test_score'].values[0]:.2f}\")"
   ]
  },
  {
   "cell_type": "code",
   "execution_count": 38,
   "id": "8dc5bfd6",
   "metadata": {},
   "outputs": [],
   "source": [
    "# Define hyperparameters for tuning\n",
    "model = MLPRegressor(**params_new)"
   ]
  },
  {
   "cell_type": "code",
   "execution_count": 39,
   "id": "0c484a1c",
   "metadata": {},
   "outputs": [],
   "source": [
    "feature_transformer, data_preprocessor = init_pipe()\n",
    "mlp_reg_pipe = make_pipeline(feature_transformer, data_preprocessor, model)\n",
    "mlp_reg_pipe.fit(X_train, y_train)\n",
    "\n",
    "y_train_prediction = mlp_reg_pipe.predict(X_train)\n",
    "y_test_prediction = mlp_reg_pipe.predict(X_test)"
   ]
  },
  {
   "cell_type": "code",
   "execution_count": 40,
   "id": "fee74076",
   "metadata": {},
   "outputs": [],
   "source": [
    "#helper_functions.predict_final_test(mlp_reg_pipe)"
   ]
  },
  {
   "cell_type": "code",
   "execution_count": 41,
   "id": "10250937",
   "metadata": {},
   "outputs": [],
   "source": [
    "print(\n",
    "    f\"Train set, RMSE={mean_squared_error(y_train, y_train_prediction, squared=False):.2f}\"\n",
    ")\n",
    "print(\n",
    "    f\"Test set, RMSE={mean_squared_error(y_test, y_test_prediction, squared=False):.2f}\"\n",
    ")"
   ]
  },
  {
   "cell_type": "code",
   "execution_count": 42,
   "id": "518435f9",
   "metadata": {},
   "outputs": [],
   "source": [
    "helper_functions.sample_week_plot(X_test, y_test_prediction, y_test, 'MLP Network', results_path)"
   ]
  },
  {
   "cell_type": "code",
   "execution_count": 43,
   "id": "0252c93c",
   "metadata": {},
   "outputs": [],
   "source": [
    "helper_functions.sample_day_plot(X_test, y_test_prediction, y_test, 'MLP Network', results_path)"
   ]
  },
  {
   "cell_type": "code",
   "execution_count": 44,
   "id": "f56c7989",
   "metadata": {},
   "outputs": [],
   "source": [
    "helper_functions.residual_plot(y_test_prediction, y_test, 'MLP Network', results_path)"
   ]
  },
  {
   "cell_type": "markdown",
   "id": "2681d0cf",
   "metadata": {},
   "source": [
    "## ElasticNet"
   ]
  },
  {
   "cell_type": "code",
   "execution_count": 45,
   "id": "83e0b413",
   "metadata": {},
   "outputs": [],
   "source": [
    "elasticnet_params = pd.read_csv(os.path.join(path_tuning, 'tuning_ElasticNet/202311271926_results.csv'))"
   ]
  },
  {
   "cell_type": "code",
   "execution_count": 46,
   "id": "cc7fe53f",
   "metadata": {},
   "outputs": [],
   "source": [
    "elasticnet_max_params = elasticnet_params.loc[elasticnet_params['mean_test_score'] == elasticnet_params['mean_test_score'].max()]"
   ]
  },
  {
   "cell_type": "code",
   "execution_count": 47,
   "id": "4c87e1aa",
   "metadata": {},
   "outputs": [],
   "source": [
    "best_params = ast.literal_eval(mlp_max_params.params.values[0])\n",
    "params_new = {key.split('__')[1]: value for key, value in best_params.items()}"
   ]
  },
  {
   "cell_type": "code",
   "execution_count": 48,
   "id": "292e4108",
   "metadata": {},
   "outputs": [],
   "source": [
    "params_new"
   ]
  },
  {
   "cell_type": "code",
   "execution_count": 49,
   "id": "bb57b392",
   "metadata": {},
   "outputs": [],
   "source": [
    "print(f\"Mean Train set, RMSE = {elasticnet_params['mean_train_score'].values[0]:.2f}\")\n",
    "print(f\"Mean Test  set, RMSE = {elasticnet_params['mean_test_score'].values[0]:.2f}\")"
   ]
  },
  {
   "cell_type": "code",
   "execution_count": 50,
   "id": "9f425682",
   "metadata": {},
   "outputs": [],
   "source": [
    "# Define hyperparameters for tuning\n",
    "model = ElasticNet(**params_new)"
   ]
  },
  {
   "cell_type": "code",
   "execution_count": 51,
   "id": "83df6c31",
   "metadata": {},
   "outputs": [],
   "source": [
    "feature_transformer, data_preprocessor = init_pipe(False)\n",
    "elastic_reg_pipe = make_pipeline(feature_transformer, data_preprocessor, model)\n",
    "elastic_reg_pipe.fit(X_train, y_train)\n",
    "\n",
    "y_train_prediction = elastic_reg_pipe.predict(X_train)\n",
    "y_test_prediction = elastic_reg_pipe.predict(X_test)"
   ]
  },
  {
   "cell_type": "code",
   "execution_count": 52,
   "id": "fc8f727b",
   "metadata": {},
   "outputs": [],
   "source": [
    "print(\n",
    "    f\"Train set, RMSE={mean_squared_error(y_train, y_train_prediction, squared=False):.2f}\"\n",
    ")\n",
    "print(\n",
    "    f\"Test set, RMSE={mean_squared_error(y_test, y_test_prediction, squared=False):.2f}\"\n",
    ")"
   ]
  },
  {
   "cell_type": "code",
   "execution_count": 53,
   "id": "773509f4",
   "metadata": {},
   "outputs": [],
   "source": [
    "helper_functions.sample_week_plot(X_test, y_test_prediction, y_test, 'ElasticNet', results_path)"
   ]
  },
  {
   "cell_type": "code",
   "execution_count": 54,
   "id": "7dd9f852",
   "metadata": {},
   "outputs": [],
   "source": [
    "helper_functions.sample_day_plot(X_test, y_test_prediction, y_test, 'ElasticNet', results_path)"
   ]
  },
  {
   "cell_type": "code",
   "execution_count": 55,
   "id": "d7dc35d9",
   "metadata": {},
   "outputs": [],
   "source": [
    "helper_functions.residual_plot(y_test_prediction, y_test, 'ElasticNet', results_path)"
   ]
  },
  {
   "cell_type": "markdown",
   "id": "7df7df74",
   "metadata": {},
   "source": [
    "## Ridge"
   ]
  },
  {
   "cell_type": "code",
   "execution_count": 56,
   "id": "6bfd83b5",
   "metadata": {},
   "outputs": [],
   "source": [
    "ridge_params = pd.read_csv(os.path.join(path_tuning, 'tuning_Ridge/202311271933_results.csv'))"
   ]
  },
  {
   "cell_type": "code",
   "execution_count": 57,
   "id": "364fb9dd",
   "metadata": {},
   "outputs": [],
   "source": [
    "ridge_max_params = ridge_params.loc[ridge_params['mean_test_score'] == ridge_params['mean_test_score'].max()]"
   ]
  },
  {
   "cell_type": "code",
   "execution_count": 58,
   "id": "08852599",
   "metadata": {},
   "outputs": [],
   "source": [
    "best_params = ast.literal_eval(mlp_max_params.params.values[0])\n",
    "params_new = {key.split('__')[1]: value for key, value in best_params.items()}"
   ]
  },
  {
   "cell_type": "code",
   "execution_count": 59,
   "id": "b5cd1b0f",
   "metadata": {},
   "outputs": [],
   "source": [
    "params_new"
   ]
  },
  {
   "cell_type": "code",
   "execution_count": 60,
   "id": "716289da",
   "metadata": {},
   "outputs": [],
   "source": [
    "print(f\"Mean Train set, RMSE = {ridge_params['mean_train_score'].values[0]:.2f}\")\n",
    "print(f\"Mean Test  set, RMSE = {ridge_params['mean_test_score'].values[0]:.2f}\")"
   ]
  },
  {
   "cell_type": "code",
   "execution_count": 61,
   "id": "0e166d9a",
   "metadata": {},
   "outputs": [],
   "source": [
    "# Define hyperparameters for tuning\n",
    "model = Ridge(**params_new)"
   ]
  },
  {
   "cell_type": "code",
   "execution_count": 63,
   "id": "377259db",
   "metadata": {},
   "outputs": [],
   "source": [
    "feature_transformer, data_preprocessor = init_pipe(False)\n",
    "ridge_reg_pipe = make_pipeline(feature_transformer, data_preprocessor, model)\n",
    "ridge_reg_pipe.fit(X_train, y_train)\n",
    "\n",
    "y_train_prediction = ridge_reg_pipe.predict(X_train)\n",
    "y_test_prediction = ridge_reg_pipe.predict(X_test)"
   ]
  },
  {
   "cell_type": "code",
   "execution_count": 64,
   "id": "30cc284b",
   "metadata": {},
   "outputs": [],
   "source": [
    "print(\n",
    "    f\"Train set, RMSE={mean_squared_error(y_train, y_train_prediction, squared=False):.2f}\"\n",
    ")\n",
    "print(\n",
    "    f\"Test set, RMSE={mean_squared_error(y_test, y_test_prediction, squared=False):.2f}\"\n",
    ")"
   ]
  },
  {
   "cell_type": "code",
   "execution_count": 65,
   "id": "0b4729d4",
   "metadata": {},
   "outputs": [],
   "source": [
    "helper_functions.sample_week_plot(X_test, y_test_prediction, y_test, 'Ridge', results_path)"
   ]
  },
  {
   "cell_type": "code",
   "execution_count": 66,
   "id": "9a9abbf5",
   "metadata": {},
   "outputs": [],
   "source": [
    "helper_functions.sample_day_plot(X_test, y_test_prediction, y_test, 'Ridge', results_path)"
   ]
  },
  {
   "cell_type": "code",
   "execution_count": 67,
   "id": "17f770d3",
   "metadata": {},
   "outputs": [],
   "source": [
    "helper_functions.residual_plot(y_test_prediction, y_test, 'Ridge', results_path)"
   ]
  },
  {
   "cell_type": "markdown",
   "id": "500ca797",
   "metadata": {},
   "source": [
    "# Combined Analysis"
   ]
  },
  {
   "cell_type": "code",
   "execution_count": 68,
   "id": "bfb54e27",
   "metadata": {},
   "outputs": [],
   "source": [
    "helper_functions.rmse_test_train_plot(light_gbm_max_params, 'LightGBM', results_path)"
   ]
  },
  {
   "cell_type": "code",
   "execution_count": 69,
   "id": "af9ef538",
   "metadata": {},
   "outputs": [],
   "source": [
    "helper_functions.rmse_test_train_plot(xgb_max_params, 'XGBoost', results_path)"
   ]
  },
  {
   "cell_type": "code",
   "execution_count": 70,
   "id": "b5ac45d1",
   "metadata": {},
   "outputs": [],
   "source": [
    "helper_functions.rmse_test_train_plot(mlp_max_params, 'MLP Network', results_path)"
   ]
  },
  {
   "cell_type": "code",
   "execution_count": 71,
   "id": "21b90f5d",
   "metadata": {},
   "outputs": [],
   "source": [
    "helper_functions.rmse_test_train_plot(elasticnet_max_params, 'ElasticNet', results_path)"
   ]
  },
  {
   "cell_type": "code",
   "execution_count": 72,
   "id": "d93d9087",
   "metadata": {},
   "outputs": [],
   "source": [
    "helper_functions.rmse_test_train_plot(ridge_max_params, 'Ridge', results_path)"
   ]
  },
  {
   "cell_type": "code",
   "execution_count": 73,
   "id": "faf13eac",
   "metadata": {},
   "outputs": [],
   "source": [
    "names = ['LightGBM', 'XGBoost', 'MLP Network', 'ElasticNet', 'Ridge']\n",
    "test_values = ['split0_test_score', 'split1_test_score', 'split2_test_score',\n",
    "   'split3_test_score', 'split4_test_score', 'split5_test_score',\n",
    "   'split6_test_score', 'split7_test_score']\n",
    "train_values = ['split0_train_score',\n",
    "   'split1_train_score', 'split2_train_score', 'split3_train_score',\n",
    "   'split4_train_score', 'split5_train_score', 'split6_train_score',\n",
    "   'split7_train_score']\n",
    "\n",
    "\n",
    "results_train = []\n",
    "results_test = []\n",
    "\n",
    "for params in [light_gbm_max_params, xgb_max_params, mlp_max_params, elasticnet_max_params, ridge_max_params]:\n",
    "    results_train.append(params[train_values].values[0])\n",
    "    results_test.append(params[test_values].values[0])\n",
    "\n"
   ]
  },
  {
   "cell_type": "code",
   "execution_count": 76,
   "id": "4e9dcfd8",
   "metadata": {},
   "outputs": [],
   "source": [
    "# boxplot algorithm comparison\n",
    "fig = plt.figure(figsize=(10, 3))\n",
    "fig.suptitle('TRAIN: Algorithm Comparison by -RMSE of CV')\n",
    "\n",
    "ax = fig.add_subplot(111)\n",
    "\n",
    "plt.boxplot(results_train)\n",
    "ax.set_xticklabels(names)\n",
    "plt.savefig(f'{results_path}/train_boxplot.png')\n",
    "\n",
    "plt.show()"
   ]
  },
  {
   "cell_type": "code",
   "execution_count": 77,
   "id": "ca004241",
   "metadata": {
    "scrolled": false
   },
   "outputs": [],
   "source": [
    "# boxplot algorithm comparison\n",
    "fig = plt.figure(figsize=(10, 3))\n",
    "fig.suptitle('TEST: Algorithm Comparison by -RMSE of CV')\n",
    "\n",
    "ax = fig.add_subplot(111)\n",
    "\n",
    "plt.boxplot(results_test)\n",
    "ax.set_xticklabels(names)\n",
    "plt.savefig(f'{results_path}/test_boxplot.png')\n",
    "\n",
    "plt.show()\n"
   ]
  },
  {
   "cell_type": "code",
   "execution_count": 120,
   "id": "787dedb7",
   "metadata": {},
   "outputs": [],
   "source": [
    "evaluation_matrix = pd.concat([light_gbm_max_params, xgb_max_params, mlp_max_params, elasticnet_max_params, ridge_max_params], ignore_index=True, axis=0)\n",
    "evaluation_matrix['model'] = ['LightGBM', 'XGBoost', 'MLP Network', 'ElasticNet', 'Ridge']\n",
    "\n",
    "evaluation_matrix = evaluation_matrix[['model', 'mean_train_score', 'std_train_score', 'mean_test_score', 'std_test_score', 'mean_fit_time', 'std_fit_time', 'mean_score_time', 'std_score_time']]\n"
   ]
  },
  {
   "cell_type": "code",
   "execution_count": 121,
   "id": "591ba2ef",
   "metadata": {},
   "outputs": [
    {
     "data": {
      "text/html": [
       "<div>\n",
       "<style scoped>\n",
       "    .dataframe tbody tr th:only-of-type {\n",
       "        vertical-align: middle;\n",
       "    }\n",
       "\n",
       "    .dataframe tbody tr th {\n",
       "        vertical-align: top;\n",
       "    }\n",
       "\n",
       "    .dataframe thead th {\n",
       "        text-align: right;\n",
       "    }\n",
       "</style>\n",
       "<table border=\"1\" class=\"dataframe\">\n",
       "  <thead>\n",
       "    <tr style=\"text-align: right;\">\n",
       "      <th></th>\n",
       "      <th>model</th>\n",
       "      <th>mean_train_score</th>\n",
       "      <th>std_train_score</th>\n",
       "      <th>mean_test_score</th>\n",
       "      <th>std_test_score</th>\n",
       "      <th>mean_fit_time</th>\n",
       "      <th>std_fit_time</th>\n",
       "      <th>mean_score_time</th>\n",
       "      <th>std_score_time</th>\n",
       "    </tr>\n",
       "  </thead>\n",
       "  <tbody>\n",
       "    <tr>\n",
       "      <th>0</th>\n",
       "      <td>LightGBM</td>\n",
       "      <td>-0.476283</td>\n",
       "      <td>0.029887</td>\n",
       "      <td>-0.702731</td>\n",
       "      <td>0.135517</td>\n",
       "      <td>10.302388</td>\n",
       "      <td>4.830360</td>\n",
       "      <td>0.815385</td>\n",
       "      <td>0.093611</td>\n",
       "    </tr>\n",
       "    <tr>\n",
       "      <th>1</th>\n",
       "      <td>XGBoost</td>\n",
       "      <td>-0.405279</td>\n",
       "      <td>0.004314</td>\n",
       "      <td>-0.675963</td>\n",
       "      <td>0.135330</td>\n",
       "      <td>6.940925</td>\n",
       "      <td>3.793191</td>\n",
       "      <td>0.746635</td>\n",
       "      <td>0.174024</td>\n",
       "    </tr>\n",
       "    <tr>\n",
       "      <th>2</th>\n",
       "      <td>MLP Network</td>\n",
       "      <td>-0.549621</td>\n",
       "      <td>0.037298</td>\n",
       "      <td>-0.694278</td>\n",
       "      <td>0.113551</td>\n",
       "      <td>38.770833</td>\n",
       "      <td>17.840814</td>\n",
       "      <td>0.232660</td>\n",
       "      <td>0.035455</td>\n",
       "    </tr>\n",
       "    <tr>\n",
       "      <th>3</th>\n",
       "      <td>ElasticNet</td>\n",
       "      <td>-0.842425</td>\n",
       "      <td>0.031390</td>\n",
       "      <td>-0.942509</td>\n",
       "      <td>0.112491</td>\n",
       "      <td>2.968295</td>\n",
       "      <td>1.650053</td>\n",
       "      <td>0.106156</td>\n",
       "      <td>0.015700</td>\n",
       "    </tr>\n",
       "    <tr>\n",
       "      <th>4</th>\n",
       "      <td>Ridge</td>\n",
       "      <td>-0.804171</td>\n",
       "      <td>0.033178</td>\n",
       "      <td>-0.932879</td>\n",
       "      <td>0.102874</td>\n",
       "      <td>1.146791</td>\n",
       "      <td>0.555068</td>\n",
       "      <td>0.097898</td>\n",
       "      <td>0.013810</td>\n",
       "    </tr>\n",
       "  </tbody>\n",
       "</table>\n",
       "</div>"
      ],
      "text/plain": [
       "         model  mean_train_score  std_train_score  mean_test_score  \\\n",
       "0     LightGBM         -0.476283         0.029887        -0.702731   \n",
       "1      XGBoost         -0.405279         0.004314        -0.675963   \n",
       "2  MLP Network         -0.549621         0.037298        -0.694278   \n",
       "3   ElasticNet         -0.842425         0.031390        -0.942509   \n",
       "4        Ridge         -0.804171         0.033178        -0.932879   \n",
       "\n",
       "   std_test_score  mean_fit_time  std_fit_time  mean_score_time  \\\n",
       "0        0.135517      10.302388      4.830360         0.815385   \n",
       "1        0.135330       6.940925      3.793191         0.746635   \n",
       "2        0.113551      38.770833     17.840814         0.232660   \n",
       "3        0.112491       2.968295      1.650053         0.106156   \n",
       "4        0.102874       1.146791      0.555068         0.097898   \n",
       "\n",
       "   std_score_time  \n",
       "0        0.093611  \n",
       "1        0.174024  \n",
       "2        0.035455  \n",
       "3        0.015700  \n",
       "4        0.013810  "
      ]
     },
     "execution_count": 121,
     "metadata": {},
     "output_type": "execute_result"
    }
   ],
   "source": [
    "evaluation_matrix"
   ]
  },
  {
   "cell_type": "code",
   "execution_count": 122,
   "id": "e8568790",
   "metadata": {},
   "outputs": [],
   "source": [
    "import dataframe_image as dfi\n",
    "dfi.export(evaluation_matrix, f'{results_path}/evaluation_matrix.png')"
   ]
  },
  {
   "cell_type": "code",
   "execution_count": 105,
   "id": "c27102d6",
   "metadata": {},
   "outputs": [],
   "source": [
    "dfi.export(pd.DataFrame(params_new, index=[0]).T, f'{results_path}/hyperparams.png')"
   ]
  },
  {
   "cell_type": "code",
   "execution_count": null,
   "id": "5f5326bf",
   "metadata": {},
   "outputs": [],
   "source": []
  }
 ],
 "metadata": {
  "kernelspec": {
   "display_name": "Python 3 (ipykernel)",
   "language": "python",
   "name": "python3"
  },
  "language_info": {
   "codemirror_mode": {
    "name": "ipython",
    "version": 3
   },
   "file_extension": ".py",
   "mimetype": "text/x-python",
   "name": "python",
   "nbconvert_exporter": "python",
   "pygments_lexer": "ipython3",
   "version": "3.9.7"
  }
 },
 "nbformat": 4,
 "nbformat_minor": 5
}
