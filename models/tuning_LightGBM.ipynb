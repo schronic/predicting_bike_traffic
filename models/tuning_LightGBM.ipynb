{
 "cells": [
  {
   "cell_type": "code",
   "execution_count": 1,
   "id": "8d7ef93a",
   "metadata": {},
   "outputs": [
    {
     "name": "stdout",
     "output_type": "stream",
     "text": [
      "Fitting 8 folds for each of 15 candidates, totalling 120 fits\n",
      "[CV 2/8; 1/15] START lgbmregressor__colsample_bytree=0.4024370696167828, lgbmregressor__learning_rate=0.1, lgbmregressor__min_child_samples=14, lgbmregressor__n_estimators=205, lgbmregressor__num_leaves=21, lgbmregressor__reg_alpha=0.8197044812718458, lgbmregressor__reg_lambda=0.7908293574351404, lgbmregressor__subsample=0.366737470314622, lgbmregressor__subsample_freq=3\n",
      "[CV 2/8; 1/15] END lgbmregressor__colsample_bytree=0.4024370696167828, lgbmregressor__learning_rate=0.1, lgbmregressor__min_child_samples=14, lgbmregressor__n_estimators=205, lgbmregressor__num_leaves=21, lgbmregressor__reg_alpha=0.8197044812718458, lgbmregressor__reg_lambda=0.7908293574351404, lgbmregressor__subsample=0.366737470314622, lgbmregressor__subsample_freq=3;, score=(train=-0.412, test=-0.677) total time=   5.3s\n",
      "[CV 2/8; 2/15] START lgbmregressor__colsample_bytree=0.9441644053845619, lgbmregressor__learning_rate=0.1, lgbmregressor__min_child_samples=11, lgbmregressor__n_estimators=233, lgbmregressor__num_leaves=29, lgbmregressor__reg_alpha=0.42460499995307044, lgbmregressor__reg_lambda=0.8242603723750688, lgbmregressor__subsample=0.6028705765355633, lgbmregressor__subsample_freq=9\n",
      "[CV 2/8; 2/15] END lgbmregressor__colsample_bytree=0.9441644053845619, lgbmregressor__learning_rate=0.1, lgbmregressor__min_child_samples=11, lgbmregressor__n_estimators=233, lgbmregressor__num_leaves=29, lgbmregressor__reg_alpha=0.42460499995307044, lgbmregressor__reg_lambda=0.8242603723750688, lgbmregressor__subsample=0.6028705765355633, lgbmregressor__subsample_freq=9;, score=(train=-0.366, test=-0.670) total time=   5.6s\n",
      "[CV 6/8; 2/15] START lgbmregressor__colsample_bytree=0.9441644053845619, lgbmregressor__learning_rate=0.1, lgbmregressor__min_child_samples=11, lgbmregressor__n_estimators=233, lgbmregressor__num_leaves=29, lgbmregressor__reg_alpha=0.42460499995307044, lgbmregressor__reg_lambda=0.8242603723750688, lgbmregressor__subsample=0.6028705765355633, lgbmregressor__subsample_freq=9\n",
      "[CV 6/8; 2/15] END lgbmregressor__colsample_bytree=0.9441644053845619, lgbmregressor__learning_rate=0.1, lgbmregressor__min_child_samples=11, lgbmregressor__n_estimators=233, lgbmregressor__num_leaves=29, lgbmregressor__reg_alpha=0.42460499995307044, lgbmregressor__reg_lambda=0.8242603723750688, lgbmregressor__subsample=0.6028705765355633, lgbmregressor__subsample_freq=9;, score=(train=-0.425, test=-0.655) total time=  13.2s\n",
      "[CV 7/8; 3/15] START lgbmregressor__colsample_bytree=0.15360026816786432, lgbmregressor__learning_rate=0.1, lgbmregressor__min_child_samples=7, lgbmregressor__n_estimators=263, lgbmregressor__num_leaves=41, lgbmregressor__reg_alpha=0.38804256720615615, lgbmregressor__reg_lambda=0.47540092218745467, lgbmregressor__subsample=0.9909678266700872, lgbmregressor__subsample_freq=4\n",
      "[CV 7/8; 3/15] END lgbmregressor__colsample_bytree=0.15360026816786432, lgbmregressor__learning_rate=0.1, lgbmregressor__min_child_samples=7, lgbmregressor__n_estimators=263, lgbmregressor__num_leaves=41, lgbmregressor__reg_alpha=0.38804256720615615, lgbmregressor__reg_lambda=0.47540092218745467, lgbmregressor__subsample=0.9909678266700872, lgbmregressor__subsample_freq=4;, score=(train=-0.467, test=-0.745) total time=  22.5s\n",
      "[CV 7/8; 5/15] START lgbmregressor__colsample_bytree=0.6059459505413543, lgbmregressor__learning_rate=0.1, lgbmregressor__min_child_samples=5, lgbmregressor__n_estimators=52, lgbmregressor__num_leaves=41, lgbmregressor__reg_alpha=0.9232922694274666, lgbmregressor__reg_lambda=0.7833422770327372, lgbmregressor__subsample=0.36118535543739416, lgbmregressor__subsample_freq=9\n",
      "[CV 7/8; 5/15] END lgbmregressor__colsample_bytree=0.6059459505413543, lgbmregressor__learning_rate=0.1, lgbmregressor__min_child_samples=5, lgbmregressor__n_estimators=52, lgbmregressor__num_leaves=41, lgbmregressor__reg_alpha=0.9232922694274666, lgbmregressor__reg_lambda=0.7833422770327372, lgbmregressor__subsample=0.36118535543739416, lgbmregressor__subsample_freq=9;, score=(train=-0.528, test=-0.733) total time=   7.8s\n",
      "[CV 6/8; 6/15] START lgbmregressor__colsample_bytree=0.29889701885289965, lgbmregressor__learning_rate=0.1, lgbmregressor__min_child_samples=18, lgbmregressor__n_estimators=217, lgbmregressor__num_leaves=46, lgbmregressor__reg_alpha=0.27247466897869466, lgbmregressor__reg_lambda=0.508382705345639, lgbmregressor__subsample=0.14808434325324182, lgbmregressor__subsample_freq=9\n",
      "[CV 6/8; 6/15] END lgbmregressor__colsample_bytree=0.29889701885289965, lgbmregressor__learning_rate=0.1, lgbmregressor__min_child_samples=18, lgbmregressor__n_estimators=217, lgbmregressor__num_leaves=46, lgbmregressor__reg_alpha=0.27247466897869466, lgbmregressor__reg_lambda=0.508382705345639, lgbmregressor__subsample=0.14808434325324182, lgbmregressor__subsample_freq=9;, score=(train=-0.433, test=-0.644) total time=  16.3s\n",
      "[CV 4/8; 8/15] START lgbmregressor__colsample_bytree=0.13167771045039434, lgbmregressor__learning_rate=0.1, lgbmregressor__min_child_samples=7, lgbmregressor__n_estimators=75, lgbmregressor__num_leaves=23, lgbmregressor__reg_alpha=0.9545851756274973, lgbmregressor__reg_lambda=0.8056878563231936, lgbmregressor__subsample=0.9868618212758624, lgbmregressor__subsample_freq=5\n",
      "[CV 4/8; 8/15] END lgbmregressor__colsample_bytree=0.13167771045039434, lgbmregressor__learning_rate=0.1, lgbmregressor__min_child_samples=7, lgbmregressor__n_estimators=75, lgbmregressor__num_leaves=23, lgbmregressor__reg_alpha=0.9545851756274973, lgbmregressor__reg_lambda=0.8056878563231936, lgbmregressor__subsample=0.9868618212758624, lgbmregressor__subsample_freq=5;, score=(train=-0.684, test=-0.830) total time=   6.3s\n",
      "[CV 2/8; 9/15] START lgbmregressor__colsample_bytree=0.901312365548177, lgbmregressor__learning_rate=0.1, lgbmregressor__min_child_samples=19, lgbmregressor__n_estimators=266, lgbmregressor__num_leaves=12, lgbmregressor__reg_alpha=0.3963705375359433, lgbmregressor__reg_lambda=0.2631327697309983, lgbmregressor__subsample=0.4107839488384195, lgbmregressor__subsample_freq=9\n",
      "[CV 2/8; 9/15] END lgbmregressor__colsample_bytree=0.901312365548177, lgbmregressor__learning_rate=0.1, lgbmregressor__min_child_samples=19, lgbmregressor__n_estimators=266, lgbmregressor__num_leaves=12, lgbmregressor__reg_alpha=0.3963705375359433, lgbmregressor__reg_lambda=0.2631327697309983, lgbmregressor__subsample=0.4107839488384195, lgbmregressor__subsample_freq=9;, score=(train=-0.428, test=-0.682) total time=   4.4s\n",
      "[CV 7/8; 9/15] START lgbmregressor__colsample_bytree=0.901312365548177, lgbmregressor__learning_rate=0.1, lgbmregressor__min_child_samples=19, lgbmregressor__n_estimators=266, lgbmregressor__num_leaves=12, lgbmregressor__reg_alpha=0.3963705375359433, lgbmregressor__reg_lambda=0.2631327697309983, lgbmregressor__subsample=0.4107839488384195, lgbmregressor__subsample_freq=9\n",
      "[CV 7/8; 9/15] END lgbmregressor__colsample_bytree=0.901312365548177, lgbmregressor__learning_rate=0.1, lgbmregressor__min_child_samples=19, lgbmregressor__n_estimators=266, lgbmregressor__num_leaves=12, lgbmregressor__reg_alpha=0.3963705375359433, lgbmregressor__reg_lambda=0.2631327697309983, lgbmregressor__subsample=0.4107839488384195, lgbmregressor__subsample_freq=9;, score=(train=-0.495, test=-0.714) total time=  14.1s\n",
      "[CV 5/8; 11/15] START lgbmregressor__colsample_bytree=0.3446960987738291, lgbmregressor__learning_rate=0.1, lgbmregressor__min_child_samples=12, lgbmregressor__n_estimators=136, lgbmregressor__num_leaves=36, lgbmregressor__reg_alpha=0.22781313256544689, lgbmregressor__reg_lambda=0.025843033322254128, lgbmregressor__subsample=0.5563503411848608, lgbmregressor__subsample_freq=3\n",
      "[CV 5/8; 11/15] END lgbmregressor__colsample_bytree=0.3446960987738291, lgbmregressor__learning_rate=0.1, lgbmregressor__min_child_samples=12, lgbmregressor__n_estimators=136, lgbmregressor__num_leaves=36, lgbmregressor__reg_alpha=0.22781313256544689, lgbmregressor__reg_lambda=0.025843033322254128, lgbmregressor__subsample=0.5563503411848608, lgbmregressor__subsample_freq=3;, score=(train=-0.452, test=-0.856) total time=  10.7s\n",
      "[CV 6/8; 12/15] START lgbmregressor__colsample_bytree=0.7280539498850853, lgbmregressor__learning_rate=0.1, lgbmregressor__min_child_samples=18, lgbmregressor__n_estimators=293, lgbmregressor__num_leaves=24, lgbmregressor__reg_alpha=0.6074800172178909, lgbmregressor__reg_lambda=0.22860438873552524, lgbmregressor__subsample=0.08452968796894622, lgbmregressor__subsample_freq=8\n",
      "[CV 6/8; 12/15] END lgbmregressor__colsample_bytree=0.7280539498850853, lgbmregressor__learning_rate=0.1, lgbmregressor__min_child_samples=18, lgbmregressor__n_estimators=293, lgbmregressor__num_leaves=24, lgbmregressor__reg_alpha=0.6074800172178909, lgbmregressor__reg_lambda=0.22860438873552524, lgbmregressor__subsample=0.08452968796894622, lgbmregressor__subsample_freq=8;, score=(train=-0.434, test=-0.636) total time=  12.6s\n",
      "[CV 8/8; 13/15] START lgbmregressor__colsample_bytree=0.8361692743183512, lgbmregressor__learning_rate=0.1, lgbmregressor__min_child_samples=7, lgbmregressor__n_estimators=262, lgbmregressor__num_leaves=20, lgbmregressor__reg_alpha=0.7155539394917521, lgbmregressor__reg_lambda=0.41951515350738156, lgbmregressor__subsample=0.16161771581216522, lgbmregressor__subsample_freq=6\n",
      "[CV 8/8; 13/15] END lgbmregressor__colsample_bytree=0.8361692743183512, lgbmregressor__learning_rate=0.1, lgbmregressor__min_child_samples=7, lgbmregressor__n_estimators=262, lgbmregressor__num_leaves=20, lgbmregressor__reg_alpha=0.7155539394917521, lgbmregressor__reg_lambda=0.41951515350738156, lgbmregressor__subsample=0.16161771581216522, lgbmregressor__subsample_freq=6;, score=(train=-0.455, test=-0.535) total time=  14.9s\n",
      "[CV 8/8; 15/15] START lgbmregressor__colsample_bytree=0.9414325305241877, lgbmregressor__learning_rate=0.1, lgbmregressor__min_child_samples=17, lgbmregressor__n_estimators=271, lgbmregressor__num_leaves=10, lgbmregressor__reg_alpha=0.588176901332892, lgbmregressor__reg_lambda=0.722106647810259, lgbmregressor__subsample=0.8174617179523453, lgbmregressor__subsample_freq=1\n",
      "[CV 8/8; 15/15] END lgbmregressor__colsample_bytree=0.9414325305241877, lgbmregressor__learning_rate=0.1, lgbmregressor__min_child_samples=17, lgbmregressor__n_estimators=271, lgbmregressor__num_leaves=10, lgbmregressor__reg_alpha=0.588176901332892, lgbmregressor__reg_lambda=0.722106647810259, lgbmregressor__subsample=0.8174617179523453, lgbmregressor__subsample_freq=1;, score=(train=-0.525, test=-0.595) total time=  10.8s\n"
     ]
    }
   ],
   "source": [
    "import os\n",
    "from lightgbm import LGBMRegressor\n",
    "from tuning import optimize_model\n",
    "import scipy.stats as stats\n",
    "\n",
    "# Initialize the LGBMRegressor\n",
    "estimator = LGBMRegressor()\n",
    "\n",
    "# Define hyperparameters for tuning\n",
    "hyperparameters = {\n",
    "        \"lgbmregressor__n_estimators\": stats.randint(50, 300),\n",
    "        \"lgbmregressor__learning_rate\": [0.1],\n",
    "        \"lgbmregressor__num_leaves\": stats.randint(10, 50),\n",
    "        \"lgbmregressor__min_child_samples\": stats.randint(5, 20),\n",
    "        \"lgbmregressor__subsample\": stats.uniform(),\n",
    "        \"lgbmregressor__subsample_freq\": stats.randint(1, 10),\n",
    "        \"lgbmregressor__colsample_bytree\": stats.uniform(),\n",
    "        \"lgbmregressor__reg_alpha\": stats.uniform(),\n",
    "        \"lgbmregressor__reg_lambda\": stats.uniform()\n",
    "}\n",
    "\n",
    "# Define the path and filename for saving tuning results\n",
    "results_path = \"./tuning_results/tuning_lightGBM\"\n",
    "\n",
    "# Ensure the results_path exists\n",
    "if not os.path.exists(results_path):\n",
    "    os.makedirs(results_path)\n",
    "\n",
    "try:\n",
    "    # Call the optimize_model function with the defined parameters\n",
    "    optimize_model(estimator, hyperparameters, results_path, n_iter=15, parallel_jobs=-1)\n",
    "except Exception as e:\n",
    "    print(f\"An error occurred during model optimization: {e}\")\n",
    "    "
   ]
  },
  {
   "cell_type": "code",
   "execution_count": null,
   "id": "bfd42ada",
   "metadata": {},
   "outputs": [],
   "source": []
  }
 ],
 "metadata": {
  "kernelspec": {
   "display_name": "Python 3 (ipykernel)",
   "language": "python",
   "name": "python3"
  },
  "language_info": {
   "codemirror_mode": {
    "name": "ipython",
    "version": 3
   },
   "file_extension": ".py",
   "mimetype": "text/x-python",
   "name": "python",
   "nbconvert_exporter": "python",
   "pygments_lexer": "ipython3",
   "version": "3.9.7"
  }
 },
 "nbformat": 4,
 "nbformat_minor": 5
}
