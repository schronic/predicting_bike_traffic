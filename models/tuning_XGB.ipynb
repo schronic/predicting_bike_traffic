{
 "cells": [
  {
   "cell_type": "code",
   "execution_count": 1,
   "id": "9b7b1c09",
   "metadata": {},
   "outputs": [
    {
     "name": "stdout",
     "output_type": "stream",
     "text": [
      "Fitting 8 folds for each of 10 candidates, totalling 80 fits\n",
      "An error occurred during model optimization: 'RandomizedSearchCV' object has no attribute 'best_estimators_'\n"
     ]
    }
   ],
   "source": [
    "import os\n",
    "from xgboost import XGBRegressor\n",
    "from tuning import optimize_model\n",
    "\n",
    "import scipy.stats as stats\n",
    "\n",
    "# Initialize the XGBRegressor with the 'hist' tree method\n",
    "estimator = XGBRegressor(tree_method=\"hist\")\n",
    "\n",
    "# Define hyperparameters for tuning\n",
    "hyperparameters = {\n",
    "    \"xgbregressor__n_estimators\": stats.randint(50, 100),  # Further reduced n_estimators\n",
    "    \"xgbregressor__learning_rate\": stats.uniform(0.01, 0.1),  # Lower and narrower learning rate\n",
    "    \"xgbregressor__colsample_bytree\": stats.uniform(0.3, 0.4),  # Reduced feature sampling\n",
    "    \"xgbregressor__colsample_bylevel\": stats.uniform(0.3, 0.4),\n",
    "    \"xgbregressor__colsample_bynode\": stats.uniform(0.3, 0.4),\n",
    "    \"xgbregressor__max_depth\": stats.randint(3, 7),  # Further reduced max depth\n",
    "    \"xgbregressor__subsample\": stats.uniform(0.5, 0.3),  # Reduced subsampling\n",
    "    \"xgbregressor__gamma\": stats.uniform(0.1, 5),  # Adjust gamma\n",
    "    \"xgbregressor__reg_lambda\": stats.uniform(0.5, 1.0),  # Increased L2 regularization\n",
    "    \"xgbregressor__reg_alpha\": stats.uniform(0.5, 1.0),  # Increased L1 regularization\n",
    "}\n",
    "\n",
    "# Define the path and filename for saving tuning results\n",
    "results_path = \"./tuning_results/tuning_xgb\"\n",
    "\n",
    "# Ensure the results_path exists\n",
    "if not os.path.exists(results_path):\n",
    "    os.makedirs(results_path)\n",
    "\n",
    "try:\n",
    "    # Call the optimize_model function with the defined parameters\n",
    "    optimize_model(estimator, hyperparameters, results_path, n_iter=10, parallel_jobs=-1)\n",
    "\n",
    "except Exception as e:\n",
    "    print(f\"An error occurred during model optimization: {e}\")\n",
    "\n"
   ]
  },
  {
   "cell_type": "code",
   "execution_count": null,
   "id": "182a7cb4",
   "metadata": {},
   "outputs": [],
   "source": []
  }
 ],
 "metadata": {
  "kernelspec": {
   "display_name": "Python 3 (ipykernel)",
   "language": "python",
   "name": "python3"
  },
  "language_info": {
   "codemirror_mode": {
    "name": "ipython",
    "version": 3
   },
   "file_extension": ".py",
   "mimetype": "text/x-python",
   "name": "python",
   "nbconvert_exporter": "python",
   "pygments_lexer": "ipython3",
   "version": "3.9.7"
  }
 },
 "nbformat": 4,
 "nbformat_minor": 5
}
